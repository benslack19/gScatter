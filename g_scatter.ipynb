{
 "cells": [
  {
   "cell_type": "markdown",
   "metadata": {},
   "source": [
    "**Scatter plots that communicate**\n",
    "\n",
    "A scatter plot function that where the meanings of marker size and marker color are communicated in the plot legend. In addition to points on the x and y axis, one represent one variable with size (e.g. a continuous variable) while and color can represent a categorical variable."
   ]
  },
  {
   "cell_type": "code",
   "execution_count": 4,
   "metadata": {},
   "outputs": [],
   "source": [
    "import pandas as pd\n",
    "import numpy as np\n",
    "import matplotlib.pyplot as plt\n",
    "%matplotlib inline"
   ]
  },
  {
   "cell_type": "code",
   "execution_count": 29,
   "metadata": {
    "code_folding": []
   },
   "outputs": [],
   "source": [
    "def g_scatter(df, x, y, size, size_legend_title, color, ax):\n",
    "    \n",
    "    # Make a \"sizes\" variable and add it to the dataframe. It will be removed at the end of the function.\n",
    "    marker_size = df[size]\n",
    "    sz_max_marker = 100\n",
    "    df['sizes_g_scatter'] = (1 + sz_max_marker * ((marker_size-marker_size.min()))) / (marker_size.max() - marker_size.min())\n",
    "\n",
    "    # Create a plot as an underlayer, serving as a proxy for the legend for marker size.\n",
    "    num_legend_points = 5\n",
    "    # Theoretical, ideal legend points, distributed throughout the size range of the sized variable.\n",
    "    legend_points_ideal = np.linspace(marker_size.min(),\n",
    "                                     marker_size.max(),\n",
    "                                     num_legend_points)\n",
    "    # Dense list comprehension to get the closest values to the legend_points_ideal\n",
    "    legend_points_data = [(df[size].iloc[(df[size] - x).abs().argsort().iloc[0]]) for x in legend_points_ideal]\n",
    "\n",
    "    # Find the rows and make a placeholder dataframe;\n",
    "    df_temp = df[df[size].isin(legend_points_data)]\n",
    "    df_temp2 = df_temp.sort_values(by='sizes_g_scatter')   # sort by size\n",
    "\n",
    "    # Plot data as an underlayer for the purposes of generating a legend\n",
    "    for i, data in df_temp2.iterrows():\n",
    "        # In this underlayer, the plot points are set to white so it's not seen (same as the background)\n",
    "        ax.scatter(data[x], data[y], s=(data['sizes_g_scatter']), c='w', label= \"%.0f\" % data[size])\n",
    "    # Place the legend which should only be for the underlaying plot\n",
    "    first_legend = ax.legend(title=size_legend_title, loc='upper left',\n",
    "                             fontsize=8, bbox_to_anchor=(1, 1), borderaxespad=1.)\n",
    "    # Manually set the colors of the marker legends to black (the legend points would have been white or non-visible)\n",
    "    for i in range(len(first_legend.legendHandles)):\n",
    "         first_legend.legendHandles[i].set_color('black')\n",
    "    # Add first legend manually to the current Axes.\n",
    "    plt.gca().add_artist(first_legend)\n",
    "\n",
    "    # Plot the data and this time make it visible.\n",
    "    for i, data in enumerate(df[color].unique()):\n",
    "        df_temp = df[df[color]==data]\n",
    "        ax.scatter(x=df_temp[x], y=df_temp[y], s=df_temp['sizes_g_scatter'], c=colors[i], label=None)\n",
    "    # Use mpatches to add second legend with colors of the groups.\n",
    "    import matplotlib.patches as mpatches\n",
    "    groups = df[color].unique().tolist()\n",
    "    group_patches = list()\n",
    "    for i,data in enumerate(groups):\n",
    "        group_patches.append(mpatches.Patch(color=colors[i], label=data))\n",
    "\n",
    "    # Changed the handlelength parameter to 0.7 to get square-shaped colored boxes in the legend\n",
    "    ax.legend(handles=group_patches, title='group', loc='upper left',\n",
    "              bbox_to_anchor=(1, 0.7), handlelength=1, borderaxespad=1.)\n",
    "\n",
    "    ax.set_xlabel(x)\n",
    "    ax.set_ylabel(y)"
   ]
  },
  {
   "cell_type": "markdown",
   "metadata": {},
   "source": [
    "Example of usage"
   ]
  },
  {
   "cell_type": "code",
   "execution_count": 30,
   "metadata": {},
   "outputs": [],
   "source": [
    "# Create example dataframe  \n",
    "\n",
    "m = 50     \n",
    "\n",
    "# Regression features\n",
    "uniform_dist = np.arange(0, m)\n",
    "gaussian_dist = np.random.normal(loc=0, scale=100, size=m)\n",
    "neg_binomial_dist = np.random.negative_binomial(2, 0.1, size=m)\n",
    "\n",
    "#  Groups\n",
    "k = 5\n",
    "group_size = round(m/k)\n",
    "groups = (['group 1']*group_size + ['group 2']*group_size\n",
    "          + ['group 3']*group_size + ['group 4']*group_size\n",
    "          + ['group 5']*group_size)\n",
    "\n",
    "df = pd.DataFrame({'uniform': uniform_dist,\n",
    "                   'gaussian': gaussian_dist,\n",
    "                   'neg_binomial': neg_binomial_dist,\n",
    "                   'groups': groups})"
   ]
  },
  {
   "cell_type": "code",
   "execution_count": 20,
   "metadata": {},
   "outputs": [
    {
     "data": {
      "text/html": [
       "<div>\n",
       "<style scoped>\n",
       "    .dataframe tbody tr th:only-of-type {\n",
       "        vertical-align: middle;\n",
       "    }\n",
       "\n",
       "    .dataframe tbody tr th {\n",
       "        vertical-align: top;\n",
       "    }\n",
       "\n",
       "    .dataframe thead th {\n",
       "        text-align: right;\n",
       "    }\n",
       "</style>\n",
       "<table border=\"1\" class=\"dataframe\">\n",
       "  <thead>\n",
       "    <tr style=\"text-align: right;\">\n",
       "      <th></th>\n",
       "      <th>gaussian</th>\n",
       "      <th>groups</th>\n",
       "      <th>neg_binomial</th>\n",
       "      <th>uniform</th>\n",
       "    </tr>\n",
       "  </thead>\n",
       "  <tbody>\n",
       "    <tr>\n",
       "      <th>0</th>\n",
       "      <td>102.884706</td>\n",
       "      <td>group 1</td>\n",
       "      <td>2</td>\n",
       "      <td>0</td>\n",
       "    </tr>\n",
       "    <tr>\n",
       "      <th>1</th>\n",
       "      <td>-7.559555</td>\n",
       "      <td>group 1</td>\n",
       "      <td>29</td>\n",
       "      <td>1</td>\n",
       "    </tr>\n",
       "    <tr>\n",
       "      <th>2</th>\n",
       "      <td>-187.661290</td>\n",
       "      <td>group 1</td>\n",
       "      <td>25</td>\n",
       "      <td>2</td>\n",
       "    </tr>\n",
       "    <tr>\n",
       "      <th>3</th>\n",
       "      <td>43.511327</td>\n",
       "      <td>group 1</td>\n",
       "      <td>4</td>\n",
       "      <td>3</td>\n",
       "    </tr>\n",
       "    <tr>\n",
       "      <th>4</th>\n",
       "      <td>3.283800</td>\n",
       "      <td>group 1</td>\n",
       "      <td>15</td>\n",
       "      <td>4</td>\n",
       "    </tr>\n",
       "  </tbody>\n",
       "</table>\n",
       "</div>"
      ],
      "text/plain": [
       "     gaussian   groups  neg_binomial  uniform\n",
       "0  102.884706  group 1             2        0\n",
       "1   -7.559555  group 1            29        1\n",
       "2 -187.661290  group 1            25        2\n",
       "3   43.511327  group 1             4        3\n",
       "4    3.283800  group 1            15        4"
      ]
     },
     "execution_count": 20,
     "metadata": {},
     "output_type": "execute_result"
    }
   ],
   "source": [
    "df.head()"
   ]
  },
  {
   "cell_type": "code",
   "execution_count": 32,
   "metadata": {},
   "outputs": [
    {
     "data": {
      "image/png": "[encoded data removed]",
      "text/plain": [
       "<Figure size 864x432 with 1 Axes>"
      ]
     },
     "metadata": {},
     "output_type": "display_data"
    }
   ],
   "source": [
    "f, ax1 = plt.subplots(1, 1, figsize=(12,6))\n",
    "colors = ['red', 'orange', 'blue', 'teal', 'green']   # Define colors that represent the groups\n",
    "\n",
    "feature_x = 'neg_binomial'\n",
    "feature_y = 'gaussian'\n",
    "\n",
    "g_scatter(df, feature_x, feature_y,\n",
    "          size='uniform',\n",
    "          size_legend_title='sized_variable',\n",
    "          color='groups', ax=ax1)\n",
    "\n",
    "## The commands below can be tweaked depending on what you are looking to show. \n",
    "# plt.gca().set_aspect('auto', adjustable='box')   \n",
    "# plt.tight_layout()"
   ]
  }
 ],
 "metadata": {
  "kernelspec": {
   "display_name": "Python 3",
   "language": "python",
   "name": "python3"
  },
  "language_info": {
   "codemirror_mode": {
    "name": "ipython",
    "version": 3
   },
   "file_extension": ".py",
   "mimetype": "text/x-python",
   "name": "python",
   "nbconvert_exporter": "python",
   "pygments_lexer": "ipython3",
   "version": "3.5.5"
  },
  "toc": {
   "nav_menu": {},
   "number_sections": true,
   "sideBar": true,
   "skip_h1_title": false,
   "toc_cell": false,
   "toc_position": {
    "height": "475px",
    "left": "0px",
    "right": "1029.83px",
    "top": "111px",
    "width": "281px"
   },
   "toc_section_display": "block",
   "toc_window_display": true
  },
  "varInspector": {
   "cols": {
    "lenName": 16,
    "lenType": 16,
    "lenVar": 40
   },
   "kernels_config": {
    "python": {
     "delete_cmd_postfix": "",
     "delete_cmd_prefix": "del ",
     "library": "var_list.py",
     "varRefreshCmd": "print(var_dic_list())"
    },
    "r": {
     "delete_cmd_postfix": ") ",
     "delete_cmd_prefix": "rm(",
     "library": "var_list.r",
     "varRefreshCmd": "cat(var_dic_list()) "
    }
   },
   "position": {
    "height": "344px",
    "left": "871.818px",
    "right": "20px",
    "top": "120px",
    "width": "336px"
   },
   "types_to_exclude": [
    "module",
    "function",
    "builtin_function_or_method",
    "instance",
    "_Feature"
   ],
   "window_display": false
  }
 },
 "nbformat": 4,
 "nbformat_minor": 2
}
