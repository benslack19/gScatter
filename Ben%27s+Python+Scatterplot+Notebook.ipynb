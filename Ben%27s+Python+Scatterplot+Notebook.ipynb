{
 "cells": [
  {
   "cell_type": "markdown",
   "metadata": {},
   "source": [
    "# Creating scatter plots with pandas, matplotlib, and seaborn\n",
    "\n",
    "It's hard for me to figure out the syntax, so I need a guide to find different options."
   ]
  },
  {
   "cell_type": "code",
   "execution_count": 1,
   "metadata": {
    "collapsed": true
   },
   "outputs": [],
   "source": [
    "# TEST\n",
    "\n",
    "# TEST2\n",
    "\n",
    "# importing packages\n",
    "import pandas as pd\n",
    "import numpy as np\n",
    "import matplotlib.pyplot as plt\n",
    "import seaborn as sns\n",
    "# from ggplot import *    # requires a pip install\n",
    "%matplotlib inline"
   ]
  },
  {
   "cell_type": "markdown",
   "metadata": {},
   "source": [
    "## 1. Sample dataframe"
   ]
  },
  {
   "cell_type": "code",
   "execution_count": 107,
   "metadata": {},
   "outputs": [
    {
     "data": {
      "text/plain": [
       "array([ 0,  2,  4,  6,  8, 10, 12, 14, 16, 18, 20, 22, 24, 26, 28, 30, 32,\n",
       "       34, 36, 38, 40, 42, 44, 46, 48, 50, 52, 54, 56, 58, 60, 62, 64, 66,\n",
       "       68, 70, 72, 74, 76, 78, 80, 82, 84, 86, 88, 90, 92, 94, 96, 98])"
      ]
     },
     "execution_count": 107,
     "metadata": {},
     "output_type": "execute_result"
    }
   ],
   "source": [
    "np.arange(0, 100, 2)"
   ]
  },
  {
   "cell_type": "code",
   "execution_count": 814,
   "metadata": {},
   "outputs": [],
   "source": [
    "# Sample dataframe with distribution\n",
    "\n",
    "df = pd.DataFrame()   # initialize an empty dataframe\n",
    "df['feature_x'] = np.arange(-10, 10)             # to be plotted in x-dimension\n",
    "df['feature_y'] = np.arange(-20, 20, 2)\n",
    "df['feature_y'] = np.random.normal(size=20) # to be plotted in y-dimension\n",
    "df['feature_sz'] = df['feature_y'].copy()             # to represent size, when applicable\n",
    "#df['feature_szDec'] = np.arange(-.200, .040, 0.002)                                                # tracks with 'feature_y' column\n",
    "df['feature_c'] = df['feature_x'].copy()    # continuous variable; to represent color, when applicable\n",
    "                                                # tracks with 'feature_x' column\n",
    "    \n",
    "# categorical variable; to represent color in a classification context, tracks with x\n",
    "groupSize = round(len(df)/5)\n",
    "df['feature_cat'] = ['group 1']*groupSize + ['group 2']*groupSize + ['group 3']*groupSize + ['group 4']*groupSize + ['group 5']*(len(df)-groupSize*4)"
   ]
  },
  {
   "cell_type": "code",
   "execution_count": 718,
   "metadata": {},
   "outputs": [],
   "source": [
    "# Sample dataframe with skewed distribution\n",
    "\n",
    "\n",
    "df = pd.DataFrame()   # initialize an empty dataframe\n",
    "df['feature_x'] = np.arange(-10, 10)             # to be plotted in x-dimension\n",
    "df['feature_y'] = np.arange(0, 20)\n",
    "#df['feature_y'] = np.random.normal(size=50) # to be plotted in y-dimension\n",
    "df['feature_sz'] = df['feature_y'].copy()             # to represent size, when applicable\n",
    "#df['feature_szDec'] = np.arange(-.200, .040, 0.002)                                                # tracks with 'feature_y' column\n",
    "df['feature_c'] = df['feature_x'].copy()    # continuous variable; to represent color, when applicable\n",
    "                                                # tracks with 'feature_x' column\n",
    "    \n",
    "# categorical variable; to represent color in a classification context, tracks with x\n",
    "groupSize = round(len(df)/5)\n",
    "df['feature_cat'] = ['group 1']*groupSize + ['group 2']*groupSize + ['group 3']*groupSize + ['group 4']*groupSize + ['group 5']*(len(df)-groupSize*4)"
   ]
  },
  {
   "cell_type": "code",
   "execution_count": 684,
   "metadata": {},
   "outputs": [
    {
     "data": {
      "text/html": [
       "<div>\n",
       "<style scoped>\n",
       "    .dataframe tbody tr th:only-of-type {\n",
       "        vertical-align: middle;\n",
       "    }\n",
       "\n",
       "    .dataframe tbody tr th {\n",
       "        vertical-align: top;\n",
       "    }\n",
       "\n",
       "    .dataframe thead th {\n",
       "        text-align: right;\n",
       "    }\n",
       "</style>\n",
       "<table border=\"1\" class=\"dataframe\">\n",
       "  <thead>\n",
       "    <tr style=\"text-align: right;\">\n",
       "      <th></th>\n",
       "      <th>feature_x</th>\n",
       "      <th>feature_y</th>\n",
       "      <th>feature_sz</th>\n",
       "      <th>feature_c</th>\n",
       "      <th>feature_cat</th>\n",
       "      <th>sizes</th>\n",
       "    </tr>\n",
       "  </thead>\n",
       "  <tbody>\n",
       "    <tr>\n",
       "      <th>0</th>\n",
       "      <td>-10</td>\n",
       "      <td>-0.487706</td>\n",
       "      <td>-0.487706</td>\n",
       "      <td>-10</td>\n",
       "      <td>group 1</td>\n",
       "      <td>70.583747</td>\n",
       "    </tr>\n",
       "    <tr>\n",
       "      <th>1</th>\n",
       "      <td>-9</td>\n",
       "      <td>0.158592</td>\n",
       "      <td>0.158592</td>\n",
       "      <td>-9</td>\n",
       "      <td>group 1</td>\n",
       "      <td>102.784844</td>\n",
       "    </tr>\n",
       "    <tr>\n",
       "      <th>2</th>\n",
       "      <td>-8</td>\n",
       "      <td>0.630960</td>\n",
       "      <td>0.630960</td>\n",
       "      <td>-8</td>\n",
       "      <td>group 1</td>\n",
       "      <td>126.320051</td>\n",
       "    </tr>\n",
       "    <tr>\n",
       "      <th>3</th>\n",
       "      <td>-7</td>\n",
       "      <td>0.585950</td>\n",
       "      <td>0.585950</td>\n",
       "      <td>-7</td>\n",
       "      <td>group 1</td>\n",
       "      <td>124.077467</td>\n",
       "    </tr>\n",
       "    <tr>\n",
       "      <th>4</th>\n",
       "      <td>-6</td>\n",
       "      <td>0.949756</td>\n",
       "      <td>0.949756</td>\n",
       "      <td>-6</td>\n",
       "      <td>group 2</td>\n",
       "      <td>142.203722</td>\n",
       "    </tr>\n",
       "    <tr>\n",
       "      <th>5</th>\n",
       "      <td>-5</td>\n",
       "      <td>1.124417</td>\n",
       "      <td>1.124417</td>\n",
       "      <td>-5</td>\n",
       "      <td>group 2</td>\n",
       "      <td>150.906019</td>\n",
       "    </tr>\n",
       "    <tr>\n",
       "      <th>6</th>\n",
       "      <td>-4</td>\n",
       "      <td>-0.440855</td>\n",
       "      <td>-0.440855</td>\n",
       "      <td>-4</td>\n",
       "      <td>group 2</td>\n",
       "      <td>72.918009</td>\n",
       "    </tr>\n",
       "    <tr>\n",
       "      <th>7</th>\n",
       "      <td>-3</td>\n",
       "      <td>0.865322</td>\n",
       "      <td>0.865322</td>\n",
       "      <td>-3</td>\n",
       "      <td>group 2</td>\n",
       "      <td>137.996874</td>\n",
       "    </tr>\n",
       "    <tr>\n",
       "      <th>8</th>\n",
       "      <td>-2</td>\n",
       "      <td>-1.884298</td>\n",
       "      <td>-1.884298</td>\n",
       "      <td>-2</td>\n",
       "      <td>group 3</td>\n",
       "      <td>1.000000</td>\n",
       "    </tr>\n",
       "    <tr>\n",
       "      <th>9</th>\n",
       "      <td>-1</td>\n",
       "      <td>-0.048416</td>\n",
       "      <td>-0.048416</td>\n",
       "      <td>-1</td>\n",
       "      <td>group 3</td>\n",
       "      <td>92.470889</td>\n",
       "    </tr>\n",
       "    <tr>\n",
       "      <th>10</th>\n",
       "      <td>0</td>\n",
       "      <td>-1.035923</td>\n",
       "      <td>-1.035923</td>\n",
       "      <td>0</td>\n",
       "      <td>group 3</td>\n",
       "      <td>43.269396</td>\n",
       "    </tr>\n",
       "    <tr>\n",
       "      <th>11</th>\n",
       "      <td>1</td>\n",
       "      <td>-0.485163</td>\n",
       "      <td>-0.485163</td>\n",
       "      <td>1</td>\n",
       "      <td>group 3</td>\n",
       "      <td>70.710431</td>\n",
       "    </tr>\n",
       "    <tr>\n",
       "      <th>12</th>\n",
       "      <td>2</td>\n",
       "      <td>0.856463</td>\n",
       "      <td>0.856463</td>\n",
       "      <td>2</td>\n",
       "      <td>group 4</td>\n",
       "      <td>137.555488</td>\n",
       "    </tr>\n",
       "    <tr>\n",
       "      <th>13</th>\n",
       "      <td>3</td>\n",
       "      <td>1.215839</td>\n",
       "      <td>1.215839</td>\n",
       "      <td>3</td>\n",
       "      <td>group 4</td>\n",
       "      <td>155.461037</td>\n",
       "    </tr>\n",
       "    <tr>\n",
       "      <th>14</th>\n",
       "      <td>4</td>\n",
       "      <td>2.129837</td>\n",
       "      <td>2.129837</td>\n",
       "      <td>4</td>\n",
       "      <td>group 4</td>\n",
       "      <td>201.000000</td>\n",
       "    </tr>\n",
       "    <tr>\n",
       "      <th>15</th>\n",
       "      <td>5</td>\n",
       "      <td>0.206786</td>\n",
       "      <td>0.206786</td>\n",
       "      <td>5</td>\n",
       "      <td>group 4</td>\n",
       "      <td>105.186062</td>\n",
       "    </tr>\n",
       "    <tr>\n",
       "      <th>16</th>\n",
       "      <td>6</td>\n",
       "      <td>0.122821</td>\n",
       "      <td>0.122821</td>\n",
       "      <td>6</td>\n",
       "      <td>group 5</td>\n",
       "      <td>101.002579</td>\n",
       "    </tr>\n",
       "    <tr>\n",
       "      <th>17</th>\n",
       "      <td>7</td>\n",
       "      <td>-1.821888</td>\n",
       "      <td>-1.821888</td>\n",
       "      <td>7</td>\n",
       "      <td>group 5</td>\n",
       "      <td>4.109520</td>\n",
       "    </tr>\n",
       "    <tr>\n",
       "      <th>18</th>\n",
       "      <td>8</td>\n",
       "      <td>-0.154597</td>\n",
       "      <td>-0.154597</td>\n",
       "      <td>8</td>\n",
       "      <td>group 5</td>\n",
       "      <td>87.180520</td>\n",
       "    </tr>\n",
       "    <tr>\n",
       "      <th>19</th>\n",
       "      <td>9</td>\n",
       "      <td>-1.595412</td>\n",
       "      <td>-1.595412</td>\n",
       "      <td>9</td>\n",
       "      <td>group 5</td>\n",
       "      <td>15.393453</td>\n",
       "    </tr>\n",
       "  </tbody>\n",
       "</table>\n",
       "</div>"
      ],
      "text/plain": [
       "    feature_x  feature_y  feature_sz  feature_c feature_cat       sizes\n",
       "0         -10  -0.487706   -0.487706        -10     group 1   70.583747\n",
       "1          -9   0.158592    0.158592         -9     group 1  102.784844\n",
       "2          -8   0.630960    0.630960         -8     group 1  126.320051\n",
       "3          -7   0.585950    0.585950         -7     group 1  124.077467\n",
       "4          -6   0.949756    0.949756         -6     group 2  142.203722\n",
       "5          -5   1.124417    1.124417         -5     group 2  150.906019\n",
       "6          -4  -0.440855   -0.440855         -4     group 2   72.918009\n",
       "7          -3   0.865322    0.865322         -3     group 2  137.996874\n",
       "8          -2  -1.884298   -1.884298         -2     group 3    1.000000\n",
       "9          -1  -0.048416   -0.048416         -1     group 3   92.470889\n",
       "10          0  -1.035923   -1.035923          0     group 3   43.269396\n",
       "11          1  -0.485163   -0.485163          1     group 3   70.710431\n",
       "12          2   0.856463    0.856463          2     group 4  137.555488\n",
       "13          3   1.215839    1.215839          3     group 4  155.461037\n",
       "14          4   2.129837    2.129837          4     group 4  201.000000\n",
       "15          5   0.206786    0.206786          5     group 4  105.186062\n",
       "16          6   0.122821    0.122821          6     group 5  101.002579\n",
       "17          7  -1.821888   -1.821888          7     group 5    4.109520\n",
       "18          8  -0.154597   -0.154597          8     group 5   87.180520\n",
       "19          9  -1.595412   -1.595412          9     group 5   15.393453"
      ]
     },
     "execution_count": 684,
     "metadata": {},
     "output_type": "execute_result"
    }
   ],
   "source": [
    "df"
   ]
  },
  {
   "cell_type": "code",
   "execution_count": 687,
   "metadata": {},
   "outputs": [
    {
     "data": {
      "text/plain": [
       "<matplotlib.collections.PathCollection at 0x11e0a26a0>"
      ]
     },
     "execution_count": 687,
     "metadata": {},
     "output_type": "execute_result"
    },
    {
     "data": {
      "image/png": "[encoded data removed]",
      "text/plain": [
       "<matplotlib.figure.Figure at 0x12113feb8>"
      ]
     },
     "metadata": {},
     "output_type": "display_data"
    }
   ],
   "source": [
    "plt.scatter(df['feature_sz'], df['sizes'])\n"
   ]
  },
  {
   "cell_type": "markdown",
   "metadata": {},
   "source": [
    "## 2. Scatter plot with markers sized by continuous variable from one feature, with an accurate legend\n",
    "\n",
    "Requirements of this scatter plot:\n",
    "\n",
    "Version 0.01\n",
    "1. Marker size should be an accurate representation of the desired feature.\n",
    "2. A legend allowing for marker size interpretation must be shown. The legend allows for a user-defined number of points and the title of the feature shown. The points shown in the legend are distributed through the range of the desired feature, but will use actual data points of the feature.\n",
    "3. Marker sizes should be able to accomodate positive and negative numbers.\n",
    "4. Marker sizes should be able to accomodate a large range and skewed distributions.\n",
    "\n",
    "Version 0.02\n",
    "3. Colors on a spectrum, representing continous values, are an addition to the depiction of marker size (not only a substitute of) the desired feature. An additional legend for the color is also shown.\n",
    "\n",
    "Version 0.03\n",
    "4. Distinct colors, representing categorical variables, are an addition to the depiction of marker size (not only a substitute of) the desired feature. An additional legend for the color is also shown."
   ]
  },
  {
   "cell_type": "markdown",
   "metadata": {},
   "source": [
    "#### Test cases:\n",
    "\n",
    "- log order distribution of values\n",
    "- negative values\n",
    "- skewed distributions (points clustered very high, very low)"
   ]
  },
  {
   "cell_type": "markdown",
   "metadata": {},
   "source": [
    "### 2.0 Default matplotlib "
   ]
  },
  {
   "cell_type": "code",
   "execution_count": 254,
   "metadata": {},
   "outputs": [
    {
     "data": {
      "text/plain": [
       "<matplotlib.collections.PathCollection at 0x11c556be0>"
      ]
     },
     "execution_count": 254,
     "metadata": {},
     "output_type": "execute_result"
    },
    {
     "data": {
      "image/png": "[encoded data removed]",
      "text/plain": [
       "<matplotlib.figure.Figure at 0x11c29e908>"
      ]
     },
     "metadata": {},
     "output_type": "display_data"
    }
   ],
   "source": [
    "f, ax = plt.subplots(1,1);\n",
    "ax.scatter(df['feature_x'], df['feature_y'], s=df['feature_sz'])\n",
    "\n",
    "# can't plot that directly"
   ]
  },
  {
   "cell_type": "markdown",
   "metadata": {},
   "source": [
    "### 2.1 Grouping sized feature into bins (idea from Stackoverfow)\n",
    "https://stackoverflow.com/questions/24164797/creating-a-matplotlib-scatter-legend-size-related\n"
   ]
  },
  {
   "cell_type": "code",
   "execution_count": 255,
   "metadata": {},
   "outputs": [
    {
     "data": {
      "text/plain": [
       "<matplotlib.text.Text at 0x11c63f1d0>"
      ]
     },
     "execution_count": 255,
     "metadata": {},
     "output_type": "execute_result"
    },
    {
     "data": {
      "image/png": "[encoded data removed]",
      "text/plain": [
       "<matplotlib.figure.Figure at 0x11c564048>"
      ]
     },
     "metadata": {},
     "output_type": "display_data"
    }
   ],
   "source": [
    "# Creating bins for scatterplot size markers\n",
    "\n",
    "f, ax = plt.subplots(1,1);\n",
    "noBins = 3\n",
    "bins = np.linspace(df['feature_sz'].min(), df['feature_sz'].max(), noBins)\n",
    "grouped = df.groupby(np.digitize(df['feature_sz'], bins))\n",
    "\n",
    "# Create some sizes and some labels.\n",
    "sizes = [50*(i+1.) for i in range(noBins)]\n",
    "# change labels to the bin increment separators\n",
    "# labels = np.array2string(bins) #, formatter={'float_kind':lambda x: \"%.2f\" % x})\n",
    "labels = [\"%.2f\" % x for x in bins]\n",
    "# labels = ['Tiny', 'Small', 'Medium', 'Large', 'Huge']\n",
    "\n",
    "for i, (name, group) in enumerate(grouped):\n",
    "    plt.scatter(group['feature_x'], group['feature_y'], s=sizes[i], color='k', label=labels[i])\n",
    "ax.legend(loc='upper left',  bbox_to_anchor=(1,1));\n",
    "ax.set_xlabel('x axis title')\n",
    "ax.set_ylabel('y axis title')"
   ]
  },
  {
   "cell_type": "markdown",
   "metadata": {},
   "source": [
    "### Summary of 2.1\n",
    "\n",
    "Pro:\n",
    "- Easy, straightforward to implement.\n",
    "- Allows you to choose the number of size markers. (Meets 0.01.02)\n",
    "\n",
    "Con:\n",
    "- The upper-most marker is only represented once. (Fails 0.01.01)\n",
    "- The points on the plot are not truly representative. It shows markers that are the same size when the values they are supposed to represent are continuously varying."
   ]
  },
  {
   "cell_type": "markdown",
   "metadata": {},
   "source": [
    "### 2.2 Plotting the sized feature, then underlaying representative samples for the purpose of the legend (my idea)\n"
   ]
  },
  {
   "cell_type": "code",
   "execution_count": 268,
   "metadata": {
    "scrolled": true
   },
   "outputs": [
    {
     "name": "stderr",
     "output_type": "stream",
     "text": [
      "/Users/lacar/anaconda/lib/python3.5/site-packages/matplotlib/collections.py:877: RuntimeWarning: invalid value encountered in sqrt\n",
      "  scale = np.sqrt(self._sizes) * dpi / 72.0 * self._factor\n"
     ]
    },
    {
     "data": {
      "image/png": "[encoded data removed]",
      "text/plain": [
       "<matplotlib.figure.Figure at 0x11c12d940>"
      ]
     },
     "metadata": {},
     "output_type": "display_data"
    }
   ],
   "source": [
    "# Show markers accurately representing the continuously varying values of the feature, but\n",
    "# only show a few size representations on the legend?\n",
    "\n",
    "f, ax = plt.subplots(1,1);\n",
    "\n",
    "# --- all for the legend - just pick number of points ---\n",
    "noLegendPoints = 5\n",
    "# these are the legend points, distributed through the size range\n",
    "legendPoints_ideal = np.linspace(df['feature_sz'].min(), df['feature_sz'].max(), noLegendPoints)\n",
    "# these are the dataframe rows that are closest to those legendPoints\n",
    "# dense  list comprehension to get the closest values in the dataset that are distributed\n",
    "legendPoints_data = [(df['feature_sz'].iloc[(df['feature_sz']-x).abs().argsort()[0]]) for x in legendPoints_ideal]\n",
    "# find the rows and make a new dataframe; underlay the plot and add that\n",
    "dfTemp = df[df['feature_sz'].isin(legendPoints_data)]\n",
    "for i, data in dfTemp.iterrows():\n",
    "    ax.scatter(data['feature_x'], data['feature_sz'], s=2*(data['feature_sz']+1), c='w', label=str(data['feature_sz']))\n",
    "\n",
    "# --- actual data; make label=None so that it doesn't over-ride the custom plot for the legend ---\n",
    "ax.scatter(df['feature_x'], df['feature_y'], s=df['feature_sz']+1, label=None) #, color='k', \n",
    "\n",
    "# --- place the legend which should only show for the underlaying plot ---\n",
    "ax.legend(title='feature_sz', loc='upper left', bbox_to_anchor=(1,1))\n",
    "# manually set the colors of the marker legends to black\n",
    "leg = ax.get_legend()\n",
    "for i in range(len(leg.legendHandles)):\n",
    "    leg.legendHandles[i].set_color('black')"
   ]
  },
  {
   "cell_type": "code",
   "execution_count": null,
   "metadata": {
    "collapsed": true
   },
   "outputs": [],
   "source": [
    "df['feature_sz'].max(np.abs['feature_sz'])"
   ]
  },
  {
   "cell_type": "code",
   "execution_count": 292,
   "metadata": {},
   "outputs": [
    {
     "data": {
      "text/plain": [
       "0        1.000000\n",
       "1        2.680672\n",
       "2        4.361345\n",
       "3        6.042017\n",
       "4        7.722689\n",
       "5        9.403361\n",
       "6       11.084034\n",
       "7       12.764706\n",
       "8       14.445378\n",
       "9       16.126050\n",
       "10      17.806723\n",
       "11      19.487395\n",
       "12      21.168067\n",
       "13      22.848739\n",
       "14      24.529412\n",
       "15      26.210084\n",
       "16      27.890756\n",
       "17      29.571429\n",
       "18      31.252101\n",
       "19      32.932773\n",
       "20      34.613445\n",
       "21      36.294118\n",
       "22      37.974790\n",
       "23      39.655462\n",
       "24      41.336134\n",
       "25      43.016807\n",
       "26      44.697479\n",
       "27      46.378151\n",
       "28      48.058824\n",
       "29      49.739496\n",
       "          ...    \n",
       "90     152.260504\n",
       "91     153.941176\n",
       "92     155.621849\n",
       "93     157.302521\n",
       "94     158.983193\n",
       "95     160.663866\n",
       "96     162.344538\n",
       "97     164.025210\n",
       "98     165.705882\n",
       "99     167.386555\n",
       "100    169.067227\n",
       "101    170.747899\n",
       "102    172.428571\n",
       "103    174.109244\n",
       "104    175.789916\n",
       "105    177.470588\n",
       "106    179.151261\n",
       "107    180.831933\n",
       "108    182.512605\n",
       "109    184.193277\n",
       "110    185.873950\n",
       "111    187.554622\n",
       "112    189.235294\n",
       "113    190.915966\n",
       "114    192.596639\n",
       "115    194.277311\n",
       "116    195.957983\n",
       "117    197.638655\n",
       "118    199.319328\n",
       "119    201.000000\n",
       "Name: feature_sz, Length: 120, dtype: float64"
      ]
     },
     "execution_count": 292,
     "metadata": {},
     "output_type": "execute_result"
    }
   ],
   "source": [
    "1+szMaxMarker*((df['feature_sz']-df['feature_sz'].min())/(df['feature_sz'].max()-df['feature_sz'].min()))"
   ]
  },
  {
   "cell_type": "code",
   "execution_count": null,
   "metadata": {
    "collapsed": true
   },
   "outputs": [],
   "source": [
    "# In order for negative numbers to be plotted, a parallel marker size map\n",
    "# has to reflect the desired feature column\n",
    "# make the marker map scale 1-200; seems practical (but this can be an option)"
   ]
  },
  {
   "cell_type": "markdown",
   "metadata": {},
   "source": [
    "#### Make a sized plot, colored by categorical variables"
   ]
  },
  {
   "cell_type": "code",
   "execution_count": 335,
   "metadata": {},
   "outputs": [
    {
     "data": {
      "image/png": "[encoded data removed]",
      "text/plain": [
       "<matplotlib.figure.Figure at 0x11b45d780>"
      ]
     },
     "metadata": {},
     "output_type": "display_data"
    }
   ],
   "source": [
    "# Show markers accurately representing the continuously varying values of the feature, but\n",
    "# only show a few size representations on the legend?\n",
    "\n",
    "f, ax = plt.subplots(1,1);\n",
    "\n",
    "# -- make a sizes vector and add it to the dataframe ---\n",
    "szMaxMarker = 100\n",
    "df['sizes'] = 1+szMaxMarker*((df['feature_sz']-df['feature_sz'].min())/(df['feature_sz'].max()-df['feature_sz'].min()))\n",
    "\n",
    "# --- all for the legend - just pick number of points ---\n",
    "noLegendPoints = 5\n",
    "# these are the legend points, distributed through the size range\n",
    "legendPoints_ideal = np.linspace(df['feature_sz'].min(), df['feature_sz'].max(), noLegendPoints)\n",
    "# these are the dataframe rows that are closest to those legendPoints\n",
    "# dense  list comprehension to get the closest values in the dataset that are distributed\n",
    "legendPoints_data = [(df['feature_sz'].iloc[(df['feature_sz']-x).abs().argsort()[0]]) for x in legendPoints_ideal]\n",
    "# find the rows and make a new dataframe; underlay the plot and add that\n",
    "dfTemp = df[df['feature_sz'].isin(legendPoints_data)]\n",
    "for i, data in dfTemp.iterrows():\n",
    "    ax.scatter(data['feature_x'], data['feature_sz'], s=(data['sizes']), c='w', label=str(data['feature_sz']))\n",
    "\n",
    "# --- actual data; make label=None so that it doesn't over-ride the custom plot for the legend ---\n",
    "ax.scatter(df['feature_x'], df['feature_y'], s=df['sizes'], color='k', label=None) #, color='k', \n",
    "\n",
    "# --- place the legend which should only show for the underlaying plot ---\n",
    "ax.legend(title='feature_sz', loc='upper left', bbox_to_anchor=(1,1))\n",
    "# manually set the colors of the marker legends to black\n",
    "leg = ax.get_legend()\n",
    "for i in range(len(leg.legendHandles)):\n",
    "    leg.legendHandles[i].set_color('black')"
   ]
  },
  {
   "cell_type": "markdown",
   "metadata": {},
   "source": [
    "#### Make a sized plot, colored by categorical variables"
   ]
  },
  {
   "cell_type": "code",
   "execution_count": 341,
   "metadata": {},
   "outputs": [
    {
     "data": {
      "image/png": "[encoded data removed]",
      "text/plain": [
       "<matplotlib.figure.Figure at 0x11c53a9b0>"
      ]
     },
     "metadata": {},
     "output_type": "display_data"
    }
   ],
   "source": [
    "# Show markers accurately representing the continuously varying values of the feature, but\n",
    "# only show a few size representations on the legend?\n",
    "\n",
    "f, ax = plt.subplots(1,1);\n",
    "\n",
    "# -- make a sizes vector and add it to the dataframe ---\n",
    "szMaxMarker = 100\n",
    "df['sizes'] = 1+szMaxMarker*((df['feature_sz']-df['feature_sz'].min())/(df['feature_sz'].max()-df['feature_sz'].min()))\n",
    "\n",
    "# --- all for the legend - just pick number of points ---\n",
    "noLegendPoints = 5\n",
    "# these are the legend points, distributed through the size range\n",
    "legendPoints_ideal = np.linspace(df['feature_sz'].min(), df['feature_sz'].max(), noLegendPoints)\n",
    "# these are the dataframe rows that are closest to those legendPoints\n",
    "# dense  list comprehension to get the closest values in the dataset that are distributed\n",
    "legendPoints_data = [(df['feature_sz'].iloc[(df['feature_sz']-x).abs().argsort()[0]]) for x in legendPoints_ideal]\n",
    "# find the rows and make a new dataframe; underlay the plot and add that\n",
    "dfTemp = df[df['feature_sz'].isin(legendPoints_data)]\n",
    "for i, data in dfTemp.iterrows():\n",
    "    ax.scatter(data['feature_x'], data['feature_sz'], s=(data['sizes']), c='w', label=str(data['feature_sz']))\n",
    "\n",
    "    \n",
    "# sizing and categorical variables\n",
    "colors=['gray', 'blue', 'green', 'yellow', 'red']\n",
    "\n",
    "# --- actual data; make label=None so that it doesn't over-ride the custom plot for the legend ---\n",
    "# ax.scatter(df['feature_x'], df['feature_y'], s=df['sizes'], color='k', label=None) #, color='k', \n",
    "\n",
    "for ind,data in enumerate(df['feature_cat'].unique()):\n",
    "    dfTemp = df[df['feature_cat']==data]\n",
    "    ax.scatter(x=dfTemp['feature_x'], y=dfTemp['feature_y'], s=dfTemp['sizes'], color=colors[ind], label=None) #label=dfTemp['feature_cat'])\n",
    "\n",
    "# --- place the legend which should only show for the underlaying plot ---\n",
    "ax.legend(title='feature_sz', loc='upper left', bbox_to_anchor=(1,1))\n",
    "# manually set the colors of the marker legends to black\n",
    "leg = ax.get_legend()\n",
    "for i in range(len(leg.legendHandles)):\n",
    "    leg.legendHandles[i].set_color('black')\n",
    "    \n"
   ]
  },
  {
   "cell_type": "code",
   "execution_count": 388,
   "metadata": {},
   "outputs": [
    {
     "data": {
      "image/png": "[encoded data removed]",
      "text/plain": [
       "<matplotlib.figure.Figure at 0x11dc58cc0>"
      ]
     },
     "metadata": {},
     "output_type": "display_data"
    }
   ],
   "source": [
    "f, ax = plt.subplots(1,1);\n",
    "\n",
    "colorPlot = ax.scatter(x=dfTemp['feature_x'], y=dfTemp['feature_y'], s=dfTemp['sizes'], c='red') #label=dfTemp['feature_cat'])\n",
    "colorPlot2 = ax.scatter(x=dfTemp['feature_x']+3, y=dfTemp['feature_y'], s=dfTemp['sizes'], c='blue') #, label='blue') #label=dfTemp['feature_cat'])\n",
    "\n",
    "\n",
    "# Create a legend for the first plot\n",
    "first_legend = plt.legend(handles=[colorPlot], loc=1, title='red')\n",
    "# Create a legend for the second plot\n",
    "second_legend = plt.legend(handles=[colorPlot2], loc=2, title='blue')\n",
    "\n",
    "# Add legends manually to the current Axes.\n",
    "ax = plt.gca().add_artist(first_legend)\n",
    "ax = plt.gca().add_artist(second_legend)\n",
    "\n"
   ]
  },
  {
   "cell_type": "code",
   "execution_count": 766,
   "metadata": {
    "scrolled": true
   },
   "outputs": [
    {
     "data": {
      "text/plain": [
       "<matplotlib.legend.Legend at 0x1249a4be0>"
      ]
     },
     "execution_count": 766,
     "metadata": {},
     "output_type": "execute_result"
    },
    {
     "data": {
      "image/png": "[encoded data removed]",
      "text/plain": [
       "<matplotlib.figure.Figure at 0x124e97be0>"
      ]
     },
     "metadata": {},
     "output_type": "display_data"
    }
   ],
   "source": [
    "# Show markers accurately representing the continuously varying values of the feature, but\n",
    "# only show a few size representations on the legend\n",
    "\n",
    "f, ax = plt.subplots(1,1);\n",
    "\n",
    "# -- make a sizes vector and add it to the dataframe ---\n",
    "szMaxMarker = 200\n",
    "df['sizes'] = 1+szMaxMarker*((df['feature_sz']-df['feature_sz'].min())/(df['feature_sz'].max()-df['feature_sz'].min()))\n",
    "\n",
    "# --- all for the legend - just pick number of points ---\n",
    "noLegendPoints = 5\n",
    "# these are the legend points, distributed through the size range\n",
    "legendPoints_ideal = np.linspace(df['feature_sz'].min(), df['feature_sz'].max(), noLegendPoints)\n",
    "# these are the dataframe rows that are closest to those legendPoints\n",
    "# dense  list comprehension to get the closest values in the dataset that are distributed\n",
    "legendPoints_data = [(df['feature_sz'].iloc[(df['feature_sz']-x).abs().argsort()[0]]) for x in legendPoints_ideal]\n",
    "# find the rows and make a new dataframe; underlay the plot and add that\n",
    "dfTemp = df[df['feature_sz'].isin(legendPoints_data)]\n",
    "for i, data in dfTemp.iterrows():\n",
    "    # Set the color to white so it's the same as the background. It is plotted before all the data intended to be visible\n",
    "    # so it will be underrneath that layer.\n",
    "    ax.scatter(data['feature_x'], data['feature_sz'], s=(data['sizes']), c='w', label=str(data['feature_sz']))\n",
    "\n",
    "# --- place the legend which should only show for the underlaying plot ---\n",
    "first_legend = ax.legend(title='feature_sz', loc='upper left', bbox_to_anchor=(1,1))\n",
    "# manually set the colors of the marker legends to black\n",
    "for i in range(len(first_legend.legendHandles)):\n",
    "     first_legend.legendHandles[i].set_color('black')\n",
    "\n",
    "# Add first legend manually to the current Axes.\n",
    "plt.gca().add_artist(first_legend)        \n",
    "    \n",
    "# --- actual data; make label=None so that it doesn't over-ride the custom plot for the legend ---\n",
    "    \n",
    "# colors for categorical variables  \n",
    "colors=['gray', 'blue', 'green', 'yellow', 'red']\n",
    "\n",
    "# ax.scatter(df['feature_x'], df['feature_y'], s=df['sizes'], color='k', label=None) #, color='k', \n",
    "\n",
    "for ind,data in enumerate(df['feature_cat'].unique()):\n",
    "    dfTemp = df[df['feature_cat']==data]\n",
    "    ax.scatter(x=dfTemp['feature_x'], y=dfTemp['feature_y'], s=dfTemp['sizes'], color=colors[ind], label=None)\n",
    "\n",
    "# re-plotting for the purposes of the class legend\n",
    "\n",
    "# dfTemp2 = pd.DataFrame()\n",
    "# for ind,data in enumerate(df['feature_cat'].unique()):\n",
    "#     # make a new dataframe that appends each row\n",
    "#     dfTemp2 = dfTemp2.append(df[df['feature_cat']==data].iloc[0,:], ignore_index=True)   # getting the first example from each class\n",
    "\n",
    "# for i, data in dfTemp2.iterrows():\n",
    "#     ax.scatter(data['feature_x'], data['feature_sz'], c='w', label=str(data['feature_cat']))\n",
    "     \n",
    "# second_legend = plt.legend(title='groups', loc='upper left', bbox_to_anchor=(1,0.5))\n",
    "# for i in range(len(second_legend.legendHandles)):\n",
    "#      second_legend.legendHandles[i].set_color('black')\n",
    "        \n",
    "\n",
    "# Create a legend for the second plot\n",
    "    # Create artist specifically for adding to the legend\n",
    "    # https://matplotlib.org/users/legend_guide.html\n",
    "#second_legend = plt.legend(handles=[colorPlot2], loc=2, title='blue')\n",
    "\n",
    "\n",
    "# Add second legend specific to the colors of the groups\n",
    "# import matplotlib.patches as mpatches\n",
    "# group_patches = []\n",
    "# for i in enumerate(colors):\n",
    "#     group_patches[i] = mpatches.Patch(color=colors[i], label=df['feature_cat'].unique()[i])\n",
    "# colors=['red']\n",
    "\n",
    "# using mpatches for automating a second legend\n",
    "\n",
    "# test = [mpatches.Patch(color='red', label='red data'), mpatches.Patch(color='blue', label='blue data')]\n",
    "# definining hatch is a hard exercise\n",
    "# hard to do a group\n",
    "# red_patch = mpatches.Patch(color='red', label='red data')\n",
    "# blue_patch = mpatches.Patch(color='blue', label='blue data')\n",
    "# group_patches = [red_patch, blue_patch]\n",
    "# plt.legend(handles=group_patches, loc='upper left', bbox_to_anchor=(1,0.5))\n",
    "\n",
    "import matplotlib.patches as mpatches\n",
    "groups = df['feature_cat'].unique().tolist()\n",
    "group_patches = list()\n",
    "for i,data in enumerate(groups):\n",
    "    #print(i, data, groups[i])\n",
    "    group_patches.append(mpatches.Patch(color=colors[i], label=data))\n",
    "\n",
    "# changed the handlelength parameter to 0.7 to get square-shaped colored boxes in the legend    \n",
    "ax.legend(handles=group_patches, title='group', loc='upper left', bbox_to_anchor=(1,0.5), handlelength=0.7)\n"
   ]
  },
  {
   "cell_type": "markdown",
   "metadata": {},
   "source": [
    "## Turning this into a definition call"
   ]
  },
  {
   "cell_type": "code",
   "execution_count": 767,
   "metadata": {},
   "outputs": [
    {
     "data": {
      "text/plain": [
       "<matplotlib.legend.Legend at 0x1249a4c18>"
      ]
     },
     "execution_count": 767,
     "metadata": {},
     "output_type": "execute_result"
    },
    {
     "data": {
      "image/png": "[encoded data removed]",
      "text/plain": [
       "<matplotlib.figure.Figure at 0x124d8c940>"
      ]
     },
     "metadata": {},
     "output_type": "display_data"
    }
   ],
   "source": [
    "# Show markers accurately representing the continuously varying values of the feature, but\n",
    "# only show a few size representations on the legend\n",
    "\n",
    "f, ax = plt.subplots(1,1);\n",
    "\n",
    "# define ahead of time:\n",
    "# colors, \n",
    "\n",
    "# def gScatter(df, x, y, sized variable, name, color variable, sizeLegendPoints, ax= ... szMaxMarker (default=100)\n",
    "# , sizeLegendPoints (default =5),  ):\n",
    "\n",
    "\n",
    "# ---- Make a sizes vector and add it to the dataframe. This will be removed at the end of the function ---\n",
    "szMaxMarker = 200\n",
    "df['sizes'] = 1+szMaxMarker*((df['feature_sz']-df['feature_sz'].min())/(df['feature_sz'].max()-df['feature_sz'].min()))\n",
    "\n",
    "# --- Create a plot as an underlayer which will serve as a proxy for the legend representing marker size\n",
    "noLegendPoints = 5  # number of points (default will be 5)\n",
    "\n",
    "# legend points, distributed through the size range\n",
    "legendPoints_ideal = np.linspace(df['feature_sz'].min(),\n",
    "                                 df['feature_sz'].max(),\n",
    "                                 noLegendPoints)  \n",
    "\n",
    "# these are the dataframe rows that are closest to those legendPoints\n",
    "# dense list comprehension to get the closest values in the dataset that are distributed\n",
    "legendPoints_data = [(df['feature_sz'].iloc[(df['feature_sz']-x).abs().argsort()[0]]) for x in legendPoints_ideal]\n",
    "# find the rows and make a new dataframe; \n",
    "dfTemp = df[df['feature_sz'].isin(legendPoints_data)]\n",
    "dfTemp2 = dfTemp.sort_values(by='sizes')   # sort by size\n",
    "# plot this as an underlayer (plotted here, before plotting all data)\n",
    "for i, data in dfTemp2.iterrows():\n",
    "    # while this is an underlayer, set the plot points to white so it's the same as the background\n",
    "    ax.scatter(data['feature_x'], data['feature_sz'], s=(data['sizes']), c='w', label= \"%.2f\" % data['feature_sz']) #label=str(data['feature_sz']))\n",
    "\n",
    "# --- Place the legend which should only show for the underlaying plot ---\n",
    "first_legend = ax.legend(title='feature_sz', loc='upper left', bbox_to_anchor=(1,1))\n",
    "# Manually set the colors of the marker legends to black (the legend points would have been white or non-visible)\n",
    "for i in range(len(first_legend.legendHandles)):\n",
    "     first_legend.legendHandles[i].set_color('black')\n",
    "\n",
    "# Add first legend manually to the current Axes.\n",
    "plt.gca().add_artist(first_legend)        \n",
    "    \n",
    "# --- actual data; make label=None so that it doesn't over-ride the custom plot for the legend ---\n",
    "    \n",
    "# colors for categorical variables  \n",
    "colors=['gray', 'blue', 'green', 'yellow', 'red']\n",
    "\n",
    "# ax.scatter(df['feature_x'], df['feature_y'], s=df['sizes'], color='k', label=None) #, color='k', \n",
    "\n",
    "for ind,data in enumerate(df['feature_cat'].unique()):\n",
    "    dfTemp = df[df['feature_cat']==data]\n",
    "    ax.scatter(x=dfTemp['feature_x'], y=dfTemp['feature_y'], s=dfTemp['sizes'], color=colors[ind], label=None)\n",
    "\n",
    "# re-plotting for the purposes of the class legend\n",
    "\n",
    "# dfTemp2 = pd.DataFrame()\n",
    "# for ind,data in enumerate(df['feature_cat'].unique()):\n",
    "#     # make a new dataframe that appends each row\n",
    "#     dfTemp2 = dfTemp2.append(df[df['feature_cat']==data].iloc[0,:], ignore_index=True)   # getting the first example from each class\n",
    "\n",
    "# for i, data in dfTemp2.iterrows():\n",
    "#     ax.scatter(data['feature_x'], data['feature_sz'], c='w', label=str(data['feature_cat']))\n",
    "     \n",
    "\n",
    "# Create a legend for the second plot\n",
    "    # Create artist specifically for adding to the legend\n",
    "    # https://matplotlib.org/users/legend_guide.html\n",
    "\n",
    "# test = [mpatches.Patch(color='red', label='red data'), mpatches.Patch(color='blue', label='blue data')]\n",
    "\n",
    "# red_patch = mpatches.Patch(color='red', label='red data')\n",
    "# blue_patch = mpatches.Patch(color='blue', label='blue data')\n",
    "# group_patches = [red_patch, blue_patch]\n",
    "# plt.legend(handles=group_patches, loc='upper left', bbox_to_anchor=(1,0.5))\n",
    "\n",
    "# Using mpatches to add second legend with colors of the groups \n",
    "import matplotlib.patches as mpatches\n",
    "groups = df['feature_cat'].unique().tolist()\n",
    "group_patches = list()\n",
    "for i,data in enumerate(groups):\n",
    "    #print(i, data, groups[i])\n",
    "    group_patches.append(mpatches.Patch(color=colors[i], label=data))\n",
    "\n",
    "# changed the handlelength parameter to 0.7 to get square-shaped colored boxes in the legend    \n",
    "ax.legend(handles=group_patches, title='group', loc='upper left', bbox_to_anchor=(1,0.5), handlelength=0.7)\n",
    "\n",
    "# remove df['sizes'] from the dataframe\n"
   ]
  },
  {
   "cell_type": "code",
   "execution_count": 858,
   "metadata": {},
   "outputs": [],
   "source": [
    "# define ahead of time:\n",
    "# colors, \n",
    "\n",
    "# def gScatter(df, x, y, sized variable, name, color variable, sizeLegendPoints, ax= ... szMaxMarker (default=100)\n",
    "# , sizeLegendPoints (default =5),  ):\n",
    "\n",
    "def gScatter(df, x, y, size, color, ax):\n",
    "#     if size == None:\n",
    "#         markerSize=50\n",
    "#     elif type(size) == int:\n",
    "#         markerSize=size\n",
    "#     else:\n",
    "        \n",
    "        \n",
    "    markerSize=df[size]\n",
    "\n",
    "    # Make a sizes vector and add it to the dataframe (removed at the end of the function)\n",
    "    szMaxMarker = 300\n",
    "    df['sizes_gScatter'] = 1+szMaxMarker*((markerSize-markerSize.min())/(markerSize.max()-markerSize.min()))\n",
    "    \n",
    "\n",
    "    # Create a plot as an underlayer, serving as a proxy for the legend for marker size\n",
    "    noLegendPoints = 5  # number of points (default will be 5)\n",
    "\n",
    "    # legend points, distributed through the size range\n",
    "    legendPoints_ideal = np.linspace(markerSize.min(),\n",
    "                                     markerSize.max(),\n",
    "                                     noLegendPoints)  \n",
    "\n",
    "    # get dataframe rows that are closest to the legendPoints_ideal\n",
    "    # dense list comprehension to get the closest values in the dataset that are distributed\n",
    "    legendPoints_data = [(df[size].iloc[(df[size]-x).abs().argsort()[0]]) for x in legendPoints_ideal]\n",
    "    \n",
    "    # find the rows and make a new dataframe; \n",
    "    dfTemp = df[df[size].isin(legendPoints_data)]  \n",
    "    dfTemp2 = dfTemp.sort_values(by='sizes_gScatter')   # sort by size\n",
    "\n",
    "    # plot this as an underlayer (plotted here, before plotting all data)\n",
    "    for i, data in dfTemp2.iterrows():\n",
    "        # while this is an underlayer, set the plot points to white so it's the same as the background\n",
    "        ax.scatter(data[x], data[y], s=(data['sizes_gScatter']), c='w', label= \"%.2f\" % data[size])\n",
    "\n",
    "    # ax.scatter(data[x], data[y], s=markerSize)   #, c='w', label= \"%.2f\" % data['feature_sz']) #label=str(data['feature_sz']))\n",
    "\n",
    "    # --- Place the legend which should only show for the underlaying plot ---\n",
    "    first_legend = ax.legend(title=size, loc='upper left', bbox_to_anchor=(1,1))\n",
    "    # Manually set the colors of the marker legends to black (the legend points would have been white or non-visible)\n",
    "    for i in range(len(first_legend.legendHandles)):\n",
    "         first_legend.legendHandles[i].set_color('black')\n",
    "\n",
    "    # Add first legend manually to the current Axes.\n",
    "    plt.gca().add_artist(first_legend)        \n",
    "\n",
    "\n",
    "    # colors for categorical variables  \n",
    "    #colors=['gray', 'blue', 'green', 'yellow', 'red']\n",
    "\n",
    "    # ax.scatter(df['feature_x'], df['feature_y'], s=df['sizes'], color='k', label=None) #, color='k', \n",
    "\n",
    "    for i,data in enumerate(df[color].unique()):\n",
    "        dfTemp = df[df[color]==data]\n",
    "        ax.scatter(x=dfTemp[x], y=dfTemp[y], s=dfTemp['sizes_gScatter'], c=colors[i], label=None)\n",
    "\n",
    "    # re-plotting for the purposes of the class legend\n",
    "\n",
    "    # Using mpatches to add second legend with colors of the groups \n",
    "    import matplotlib.patches as mpatches\n",
    "    groups = df[color].unique().tolist()\n",
    "    group_patches = list()\n",
    "    for i,data in enumerate(groups):\n",
    "        #print(i, data, groups[i])\n",
    "        group_patches.append(mpatches.Patch(color=colors[i], label=data))\n",
    "\n",
    "    # changed the handlelength parameter to 0.7 to get square-shaped colored boxes in the legend    \n",
    "    ax.legend(handles=group_patches, title='group', loc='upper left', bbox_to_anchor=(1,0.5), handlelength=0.7)\n",
    "\n",
    "\n",
    "\n",
    "\n",
    "    #data.drop(labels='sizes_gScatter', axis=1, inplace=True)\n",
    "\n",
    "\n"
   ]
  },
  {
   "cell_type": "code",
   "execution_count": 863,
   "metadata": {
    "scrolled": true
   },
   "outputs": [
    {
     "data": {
      "image/png": "[encoded data removed]",
      "text/plain": [
       "<matplotlib.figure.Figure at 0x123e46a58>"
      ]
     },
     "metadata": {},
     "output_type": "display_data"
    }
   ],
   "source": [
    "# colors for categorical variables  \n",
    "colors=['purple', 'gray', 'blue', 'green', 'yellow', 'red', 'gray']\n",
    "\n",
    "f, ax1 = plt.subplots(1,1);\n",
    "gScatter(df=df, x='feature_x', y='feature_x', size='feature_x', color='feature_cat', ax=ax1)\n"
   ]
  },
  {
   "cell_type": "code",
   "execution_count": 860,
   "metadata": {},
   "outputs": [
    {
     "data": {
      "text/plain": [
       "0       1.000000\n",
       "1      16.789474\n",
       "2      32.578947\n",
       "3      48.368421\n",
       "4      64.157895\n",
       "5      79.947368\n",
       "6      95.736842\n",
       "7     111.526316\n",
       "8     127.315789\n",
       "9     143.105263\n",
       "10    158.894737\n",
       "11    174.684211\n",
       "12    190.473684\n",
       "13    206.263158\n",
       "14    222.052632\n",
       "15    237.842105\n",
       "16    253.631579\n",
       "17    269.421053\n",
       "18    285.210526\n",
       "19    301.000000\n",
       "Name: sizes_gScatter, dtype: float64"
      ]
     },
     "execution_count": 860,
     "metadata": {},
     "output_type": "execute_result"
    }
   ],
   "source": [
    "df['sizes_gScatter']"
   ]
  },
  {
   "cell_type": "code",
   "execution_count": 801,
   "metadata": {},
   "outputs": [],
   "source": [
    "def gJack(data, x, y, ax):\n",
    "    ax.scatter(data[x], data[y])"
   ]
  },
  {
   "cell_type": "code",
   "execution_count": 803,
   "metadata": {},
   "outputs": [
    {
     "data": {
      "image/png": "[encoded data removed]",
      "text/plain": [
       "<matplotlib.figure.Figure at 0x121fdf048>"
      ]
     },
     "metadata": {},
     "output_type": "display_data"
    }
   ],
   "source": [
    "f, (ax1, ax2) = plt.subplots(2,1)\n",
    "gJack(df, 'feature_x', 'feature_y', ax1)\n",
    "gJack(data=df, x='feature_y', y='feature_x', ax=ax2)"
   ]
  },
  {
   "cell_type": "code",
   "execution_count": 366,
   "metadata": {},
   "outputs": [
    {
     "data": {
      "image/png": "[encoded data removed]",
      "text/plain": [
       "<matplotlib.figure.Figure at 0x11b244438>"
      ]
     },
     "metadata": {},
     "output_type": "display_data"
    }
   ],
   "source": [
    "# Show markers accurately representing the continuously varying values of the feature, but\n",
    "# only show a few size representations on the legend?\n",
    "\n",
    "f, ax = plt.subplots(1,1);\n",
    "\n",
    "# -- make a sizes vector and add it to the dataframe ---\n",
    "szMaxMarker = 100\n",
    "df['sizes'] = 1+szMaxMarker*((df['feature_sz']-df['feature_sz'].min())/(df['feature_sz'].max()-df['feature_sz'].min()))\n",
    "\n",
    "# --- all for the legend - just pick number of points ---\n",
    "noLegendPoints = 5\n",
    "# these are the legend points, distributed through the size range\n",
    "legendPoints_ideal = np.linspace(df['feature_sz'].min(), df['feature_sz'].max(), noLegendPoints)\n",
    "# these are the dataframe rows that are closest to those legendPoints\n",
    "# dense  list comprehension to get the closest values in the dataset that are distributed\n",
    "legendPoints_data = [(df['feature_sz'].iloc[(df['feature_sz']-x).abs().argsort()[0]]) for x in legendPoints_ideal]\n",
    "# find the rows and make a new dataframe; underlay the plot and add that\n",
    "dfTemp = df[df['feature_sz'].isin(legendPoints_data)]\n",
    "for i, data in dfTemp.iterrows():\n",
    "    ax.scatter(data['feature_x'], data['feature_sz'], s=(data['sizes']), c='w', label=str(data['feature_sz']))\n",
    "\n",
    "\n",
    "\n",
    "\n",
    "# --- actual data; make label=None so that it doesn't over-ride the custom plot for the legend ---\n",
    "# ax.scatter(df['feature_x'], df['feature_y'], s=df['sizes'], color='k', label=None) #, color='k', \n",
    "\n",
    "# sizing and categorical variables\n",
    "colors=['gray', 'blue', 'green', 'yellow', 'red']\n",
    "\n",
    "for ind,data in enumerate(df['feature_cat'].unique()):\n",
    "    dfTemp = df[df['feature_cat']==data]\n",
    "    h = ax.scatter(x=dfTemp['feature_x'], y=dfTemp['feature_y'], s=dfTemp['sizes'], color=colors[ind], label=None) #label=dfTemp['feature_cat'])\n",
    "\n",
    "# --- place the legend which should only show for the underlaying plot ---\n",
    "ax.legend(title='feature_sz', loc='upper left', bbox_to_anchor=(1,1))\n",
    "# manually set the colors of the marker legends to black\n",
    "leg = ax.get_legend()\n",
    "for i in range(len(leg.legendHandles)):\n",
    "    leg.legendHandles[i].set_color('black')\n",
    "\n"
   ]
  },
  {
   "cell_type": "markdown",
   "metadata": {},
   "source": [
    "### Summary of 2.2\n",
    "\n",
    "Pro:\n",
    "- Sizes are representative of the feature.\n",
    "\n",
    "Con:\n",
    "- A plot is being drawn again"
   ]
  },
  {
   "cell_type": "markdown",
   "metadata": {},
   "source": [
    "## 2. Pandas dataframe syntax\n",
    "\n",
    "https://pandas.pydata.org/pandas-docs/stable/generated/pandas.DataFrame.plot.scatter.html"
   ]
  },
  {
   "cell_type": "code",
   "execution_count": 3,
   "metadata": {},
   "outputs": [
    {
     "data": {
      "text/plain": [
       "<matplotlib.axes._subplots.AxesSubplot at 0x1115045c0>"
      ]
     },
     "execution_count": 3,
     "metadata": {},
     "output_type": "execute_result"
    },
    {
     "data": {
      "image/png": "[encoded data removed]",
      "text/plain": [
       "<matplotlib.figure.Figure at 0x10a128a58>"
      ]
     },
     "metadata": {},
     "output_type": "display_data"
    }
   ],
   "source": [
    "# 2.1 Basic scatter plot\n",
    "\n",
    "df.plot.scatter('feature_x', 'feature_y')\n",
    "\n",
    "# note commonalities in default colors"
   ]
  },
  {
   "cell_type": "code",
   "execution_count": 5,
   "metadata": {},
   "outputs": [
    {
     "data": {
      "text/plain": [
       "<matplotlib.axes._subplots.AxesSubplot at 0x114858630>"
      ]
     },
     "execution_count": 5,
     "metadata": {},
     "output_type": "execute_result"
    },
    {
     "data": {
      "image/png": "[encoded data removed]",
      "text/plain": [
       "<matplotlib.figure.Figure at 0x1147e8b38>"
      ]
     },
     "metadata": {},
     "output_type": "display_data"
    }
   ],
   "source": [
    "# 2.2 Scatter plot + size coding\n",
    "\n",
    "df.plot.scatter('feature_x', 'feature_y', s=df['feature_sz'])\n",
    "\n",
    "# requires that the size "
   ]
  },
  {
   "cell_type": "code",
   "execution_count": 22,
   "metadata": {
    "collapsed": true
   },
   "outputs": [
    {
     "ename": "AttributeError",
     "evalue": "'AxesSubplot' object has no attribute 'autoscale_None'",
     "output_type": "error",
     "traceback": [
      "\u001b[0;31m---------------------------------------------------------------------------\u001b[0m",
      "\u001b[0;31mAttributeError\u001b[0m                            Traceback (most recent call last)",
      "\u001b[0;32m<ipython-input-22-9c61fbcce05f>\u001b[0m in \u001b[0;36m<module>\u001b[0;34m()\u001b[0m\n\u001b[1;32m      3\u001b[0m \u001b[0mmy_cmap\u001b[0m \u001b[0;34m=\u001b[0m \u001b[0;34m'Spectral'\u001b[0m\u001b[0;34m\u001b[0m\u001b[0m\n\u001b[1;32m      4\u001b[0m \u001b[0max\u001b[0m \u001b[0;34m=\u001b[0m \u001b[0mdf\u001b[0m\u001b[0;34m.\u001b[0m\u001b[0mplot\u001b[0m\u001b[0;34m.\u001b[0m\u001b[0mscatter\u001b[0m\u001b[0;34m(\u001b[0m\u001b[0;34m'feature_x'\u001b[0m\u001b[0;34m,\u001b[0m \u001b[0;34m'feature_y'\u001b[0m\u001b[0;34m,\u001b[0m \u001b[0ms\u001b[0m\u001b[0;34m=\u001b[0m\u001b[0mdf\u001b[0m\u001b[0;34m[\u001b[0m\u001b[0;34m'feature_sz'\u001b[0m\u001b[0;34m]\u001b[0m\u001b[0;34m,\u001b[0m \u001b[0mc\u001b[0m\u001b[0;34m=\u001b[0m\u001b[0mdf\u001b[0m\u001b[0;34m[\u001b[0m\u001b[0;34m'feature_c'\u001b[0m\u001b[0;34m]\u001b[0m\u001b[0;34m,\u001b[0m \u001b[0mcmap\u001b[0m\u001b[0;34m=\u001b[0m\u001b[0mmy_cmap\u001b[0m\u001b[0;34m)\u001b[0m\u001b[0;34m\u001b[0m\u001b[0m\n\u001b[0;32m----> 5\u001b[0;31m \u001b[0mplt\u001b[0m\u001b[0;34m.\u001b[0m\u001b[0mcolorbar\u001b[0m\u001b[0;34m(\u001b[0m\u001b[0max\u001b[0m\u001b[0;34m)\u001b[0m\u001b[0;34m\u001b[0m\u001b[0m\n\u001b[0m",
      "\u001b[0;32m/Users/lacar/anaconda/lib/python3.5/site-packages/matplotlib/pyplot.py\u001b[0m in \u001b[0;36mcolorbar\u001b[0;34m(mappable, cax, ax, **kw)\u001b[0m\n\u001b[1;32m   2259\u001b[0m         \u001b[0max\u001b[0m \u001b[0;34m=\u001b[0m \u001b[0mgca\u001b[0m\u001b[0;34m(\u001b[0m\u001b[0;34m)\u001b[0m\u001b[0;34m\u001b[0m\u001b[0m\n\u001b[1;32m   2260\u001b[0m \u001b[0;34m\u001b[0m\u001b[0m\n\u001b[0;32m-> 2261\u001b[0;31m     \u001b[0mret\u001b[0m \u001b[0;34m=\u001b[0m \u001b[0mgcf\u001b[0m\u001b[0;34m(\u001b[0m\u001b[0;34m)\u001b[0m\u001b[0;34m.\u001b[0m\u001b[0mcolorbar\u001b[0m\u001b[0;34m(\u001b[0m\u001b[0mmappable\u001b[0m\u001b[0;34m,\u001b[0m \u001b[0mcax\u001b[0m \u001b[0;34m=\u001b[0m \u001b[0mcax\u001b[0m\u001b[0;34m,\u001b[0m \u001b[0max\u001b[0m\u001b[0;34m=\u001b[0m\u001b[0max\u001b[0m\u001b[0;34m,\u001b[0m \u001b[0;34m**\u001b[0m\u001b[0mkw\u001b[0m\u001b[0;34m)\u001b[0m\u001b[0;34m\u001b[0m\u001b[0m\n\u001b[0m\u001b[1;32m   2262\u001b[0m     \u001b[0;32mreturn\u001b[0m \u001b[0mret\u001b[0m\u001b[0;34m\u001b[0m\u001b[0m\n\u001b[1;32m   2263\u001b[0m \u001b[0mcolorbar\u001b[0m\u001b[0;34m.\u001b[0m\u001b[0m__doc__\u001b[0m \u001b[0;34m=\u001b[0m \u001b[0mmatplotlib\u001b[0m\u001b[0;34m.\u001b[0m\u001b[0mcolorbar\u001b[0m\u001b[0;34m.\u001b[0m\u001b[0mcolorbar_doc\u001b[0m\u001b[0;34m\u001b[0m\u001b[0m\n",
      "\u001b[0;32m/Users/lacar/anaconda/lib/python3.5/site-packages/matplotlib/figure.py\u001b[0m in \u001b[0;36mcolorbar\u001b[0;34m(self, mappable, cax, ax, use_gridspec, **kw)\u001b[0m\n\u001b[1;32m   1601\u001b[0m                 \u001b[0mcax\u001b[0m\u001b[0;34m,\u001b[0m \u001b[0mkw\u001b[0m \u001b[0;34m=\u001b[0m \u001b[0mcbar\u001b[0m\u001b[0;34m.\u001b[0m\u001b[0mmake_axes\u001b[0m\u001b[0;34m(\u001b[0m\u001b[0max\u001b[0m\u001b[0;34m,\u001b[0m \u001b[0;34m**\u001b[0m\u001b[0mkw\u001b[0m\u001b[0;34m)\u001b[0m\u001b[0;34m\u001b[0m\u001b[0m\n\u001b[1;32m   1602\u001b[0m         \u001b[0mcax\u001b[0m\u001b[0;34m.\u001b[0m\u001b[0m_hold\u001b[0m \u001b[0;34m=\u001b[0m \u001b[0;32mTrue\u001b[0m\u001b[0;34m\u001b[0m\u001b[0m\n\u001b[0;32m-> 1603\u001b[0;31m         \u001b[0mcb\u001b[0m \u001b[0;34m=\u001b[0m \u001b[0mcbar\u001b[0m\u001b[0;34m.\u001b[0m\u001b[0mcolorbar_factory\u001b[0m\u001b[0;34m(\u001b[0m\u001b[0mcax\u001b[0m\u001b[0;34m,\u001b[0m \u001b[0mmappable\u001b[0m\u001b[0;34m,\u001b[0m \u001b[0;34m**\u001b[0m\u001b[0mkw\u001b[0m\u001b[0;34m)\u001b[0m\u001b[0;34m\u001b[0m\u001b[0m\n\u001b[0m\u001b[1;32m   1604\u001b[0m \u001b[0;34m\u001b[0m\u001b[0m\n\u001b[1;32m   1605\u001b[0m         \u001b[0mself\u001b[0m\u001b[0;34m.\u001b[0m\u001b[0msca\u001b[0m\u001b[0;34m(\u001b[0m\u001b[0mcurrent_ax\u001b[0m\u001b[0;34m)\u001b[0m\u001b[0;34m\u001b[0m\u001b[0m\n",
      "\u001b[0;32m/Users/lacar/anaconda/lib/python3.5/site-packages/matplotlib/colorbar.py\u001b[0m in \u001b[0;36mcolorbar_factory\u001b[0;34m(cax, mappable, **kwargs)\u001b[0m\n\u001b[1;32m   1345\u001b[0m         \u001b[0mcb\u001b[0m \u001b[0;34m=\u001b[0m \u001b[0mColorbarPatch\u001b[0m\u001b[0;34m(\u001b[0m\u001b[0mcax\u001b[0m\u001b[0;34m,\u001b[0m \u001b[0mmappable\u001b[0m\u001b[0;34m,\u001b[0m \u001b[0;34m**\u001b[0m\u001b[0mkwargs\u001b[0m\u001b[0;34m)\u001b[0m\u001b[0;34m\u001b[0m\u001b[0m\n\u001b[1;32m   1346\u001b[0m     \u001b[0;32melse\u001b[0m\u001b[0;34m:\u001b[0m\u001b[0;34m\u001b[0m\u001b[0m\n\u001b[0;32m-> 1347\u001b[0;31m         \u001b[0mcb\u001b[0m \u001b[0;34m=\u001b[0m \u001b[0mColorbar\u001b[0m\u001b[0;34m(\u001b[0m\u001b[0mcax\u001b[0m\u001b[0;34m,\u001b[0m \u001b[0mmappable\u001b[0m\u001b[0;34m,\u001b[0m \u001b[0;34m**\u001b[0m\u001b[0mkwargs\u001b[0m\u001b[0;34m)\u001b[0m\u001b[0;34m\u001b[0m\u001b[0m\n\u001b[0m\u001b[1;32m   1348\u001b[0m \u001b[0;34m\u001b[0m\u001b[0m\n\u001b[1;32m   1349\u001b[0m     \u001b[0mcid\u001b[0m \u001b[0;34m=\u001b[0m \u001b[0mmappable\u001b[0m\u001b[0;34m.\u001b[0m\u001b[0mcallbacksSM\u001b[0m\u001b[0;34m.\u001b[0m\u001b[0mconnect\u001b[0m\u001b[0;34m(\u001b[0m\u001b[0;34m'changed'\u001b[0m\u001b[0;34m,\u001b[0m \u001b[0mcb\u001b[0m\u001b[0;34m.\u001b[0m\u001b[0mon_mappable_changed\u001b[0m\u001b[0;34m)\u001b[0m\u001b[0;34m\u001b[0m\u001b[0m\n",
      "\u001b[0;32m/Users/lacar/anaconda/lib/python3.5/site-packages/matplotlib/colorbar.py\u001b[0m in \u001b[0;36m__init__\u001b[0;34m(self, ax, mappable, **kw)\u001b[0m\n\u001b[1;32m    899\u001b[0m         \u001b[0;31m# Ensure the given mappable's norm has appropriate vmin and vmax set\u001b[0m\u001b[0;34m\u001b[0m\u001b[0;34m\u001b[0m\u001b[0m\n\u001b[1;32m    900\u001b[0m         \u001b[0;31m# even if mappable.draw has not yet been called.\u001b[0m\u001b[0;34m\u001b[0m\u001b[0;34m\u001b[0m\u001b[0m\n\u001b[0;32m--> 901\u001b[0;31m         \u001b[0mmappable\u001b[0m\u001b[0;34m.\u001b[0m\u001b[0mautoscale_None\u001b[0m\u001b[0;34m(\u001b[0m\u001b[0;34m)\u001b[0m\u001b[0;34m\u001b[0m\u001b[0m\n\u001b[0m\u001b[1;32m    902\u001b[0m \u001b[0;34m\u001b[0m\u001b[0m\n\u001b[1;32m    903\u001b[0m         \u001b[0mself\u001b[0m\u001b[0;34m.\u001b[0m\u001b[0mmappable\u001b[0m \u001b[0;34m=\u001b[0m \u001b[0mmappable\u001b[0m\u001b[0;34m\u001b[0m\u001b[0m\n",
      "\u001b[0;31mAttributeError\u001b[0m: 'AxesSubplot' object has no attribute 'autoscale_None'"
     ]
    },
    {
     "data": {
      "image/png": "[encoded data removed]",
      "text/plain": [
       "<matplotlib.figure.Figure at 0x114b49f98>"
      ]
     },
     "metadata": {},
     "output_type": "display_data"
    }
   ],
   "source": [
    "# 2.3 Scatter plot + size coding + color coding\n",
    "\n",
    "my_cmap = 'Spectral'\n",
    "ax = df.plot.scatter('feature_x', 'feature_y', s=df['feature_sz'], c=df['feature_c'], cmap=my_cmap)\n",
    "plt.colorbar(ax)"
   ]
  },
  {
   "cell_type": "code",
   "execution_count": 9,
   "metadata": {},
   "outputs": [
    {
     "data": {
      "image/png": "[encoded data removed]",
      "text/plain": [
       "<matplotlib.figure.Figure at 0x114cd7668>"
      ]
     },
     "metadata": {},
     "output_type": "display_data"
    }
   ],
   "source": [
    "# 2.4 Scatter plot + size coding + color coding + aesthetic customization\n",
    "\n",
    "# assign the dataframe to an axes\n",
    "# (here, axes refers to the whole plot, not the x- and y-dimension)\n",
    "\n",
    "my_cmap = 'Spectral'  # if a change in the default color map is desired, change this before plotting\n",
    "ax = df.plot.scatter('feature_x', 'feature_y', s=df['feature_sz'], c=df['feature_c'], cmap=my_cmap)\n",
    "\n",
    "# set equal to ax to alter axes\n",
    "\n",
    "# make labels\n",
    "ax.set_ylabel('Y axis label')\n",
    "ax.set_xlabel('X axis label')\n",
    "ax.set_title('X vs. Y')\n",
    "ax.tick_params(axis='both', which='both',length=0)   # remove tick marks\n",
    "\n",
    "# don't know why the x-axis goes away\n"
   ]
  },
  {
   "cell_type": "code",
   "execution_count": 11,
   "metadata": {},
   "outputs": [
    {
     "data": {
      "image/png": "[encoded data removed]",
      "text/plain": [
       "<matplotlib.figure.Figure at 0x114e7bcf8>"
      ]
     },
     "metadata": {},
     "output_type": "display_data"
    }
   ],
   "source": [
    "# 2.5 Scatter plot + size coding + color coding + aesthetic customization + regression line\n",
    "\n",
    "# assign the dataframe to an axes\n",
    "# (here, axes refers to the whole plot, not the x- and y-dimension)\n",
    "\n",
    "my_cmap = 'Spectral'  # if a change in the default color map is desired, change this before plotting\n",
    "ax = df.plot.scatter('feature_x', 'feature_y', s=df['feature_sz'], c=df['feature_c'], cmap=my_cmap)\n",
    "\n",
    "# make labels\n",
    "ax.set_ylabel('Y axis label')\n",
    "ax.set_xlabel('X axis label')\n",
    "ax.set_title('X vs. Y')\n",
    "ax.tick_params(axis='both', which='both',length=0)   # remove tick marks\n",
    "\n",
    "# don't know why the x-axis goes away\n",
    "\n",
    "# drawing a regression line\n",
    "# make an equation\n",
    "\n",
    "# And now connect them\n",
    "# ax.plot([x_0, x_1], [y_0, y_1], c='r')\n",
    "# df.plot.line(x=0, y=1, ax=ax, style='b')"
   ]
  },
  {
   "cell_type": "markdown",
   "metadata": {},
   "source": [
    "## 3. Matplotlib syntax\n",
    "\n",
    "https://matplotlib.org/api/pyplot_api.html"
   ]
  },
  {
   "cell_type": "code",
   "execution_count": 19,
   "metadata": {
    "scrolled": true
   },
   "outputs": [
    {
     "data": {
      "text/plain": [
       "<matplotlib.collections.PathCollection at 0x114c73470>"
      ]
     },
     "execution_count": 19,
     "metadata": {},
     "output_type": "execute_result"
    },
    {
     "data": {
      "image/png": "[encoded data removed]",
      "text/plain": [
       "<matplotlib.figure.Figure at 0x114bae438>"
      ]
     },
     "metadata": {},
     "output_type": "display_data"
    }
   ],
   "source": [
    "# 3.1.1 Basic scatter plot using matplotlib syntax\n",
    "fig, ax = plt.subplots(1,1)\n",
    "ax.scatter(x=df['feature_x'], y=df['feature_y'])\n",
    "#ax2.scatter(x=df['feature_x'], y=df['feature_y'])\n",
    "\n",
    "# note how the df has to be specified"
   ]
  },
  {
   "cell_type": "code",
   "execution_count": 42,
   "metadata": {},
   "outputs": [
    {
     "data": {
      "text/plain": [
       "<matplotlib.legend.Legend at 0x116911c18>"
      ]
     },
     "execution_count": 42,
     "metadata": {},
     "output_type": "execute_result"
    },
    {
     "data": {
      "image/png": "[encoded data removed]",
      "text/plain": [
       "<matplotlib.figure.Figure at 0x1161eb080>"
      ]
     },
     "metadata": {},
     "output_type": "display_data"
    }
   ],
   "source": [
    "# 3.1.2 Scatter plot using matplotlib syntax + size coding\n",
    "fig, ax = plt.subplots(1,1)\n",
    "ax.scatter(x=df['feature_x'], y=df['feature_y'], s=df['feature_sz'])\n",
    "ax.legend()\n",
    "\n"
   ]
  },
  {
   "cell_type": "code",
   "execution_count": 49,
   "metadata": {},
   "outputs": [
    {
     "data": {
      "text/plain": [
       "<matplotlib.collections.PathCollection at 0x1181347b8>"
      ]
     },
     "execution_count": 49,
     "metadata": {},
     "output_type": "execute_result"
    },
    {
     "data": {
      "image/png": "[encoded data removed]",
      "text/plain": [
       "<matplotlib.figure.Figure at 0x1181a02e8>"
      ]
     },
     "metadata": {},
     "output_type": "display_data"
    }
   ],
   "source": [
    "# 3.1.3.1 Scatter plot using matplotlib syntax + size coding + color coding (regression)\n",
    "\n",
    "plt.scatter(x=df['feature_x'], y=df['feature_y'], s=df['feature_z'], c=df['feature_c'], cmap=None)\n",
    "\n",
    "# note the default cmap. If None, defaults to rc image.cmap."
   ]
  },
  {
   "cell_type": "code",
   "execution_count": 50,
   "metadata": {},
   "outputs": [
    {
     "data": {
      "text/plain": [
       "array(['group 1', 'group 2', 'group 3', 'group 4', 'group 5'], dtype=object)"
      ]
     },
     "execution_count": 50,
     "metadata": {},
     "output_type": "execute_result"
    }
   ],
   "source": [
    "df['feature_cat'].unique()"
   ]
  },
  {
   "cell_type": "code",
   "execution_count": 121,
   "metadata": {},
   "outputs": [
    {
     "data": {
      "text/plain": [
       "<matplotlib.legend.Legend at 0x118b21978>"
      ]
     },
     "execution_count": 121,
     "metadata": {},
     "output_type": "execute_result"
    },
    {
     "data": {
      "image/png": "[encoded data removed]",
      "text/plain": [
       "<matplotlib.figure.Figure at 0x1189bb208>"
      ]
     },
     "metadata": {},
     "output_type": "display_data"
    }
   ],
   "source": [
    "colors=['gray', 'blue', 'green', 'yellow', 'red']\n",
    "\n",
    "fig, ax = plt.subplots(1)\n",
    "\n",
    "for ind,data in enumerate(df['feature_cat'].unique()):\n",
    "    dfTemp = df[df['feature_cat']==data]\n",
    "    ax.scatter(x=dfTemp['feature_x'], y=dfTemp['feature_y'], s=dfTemp['feature_sz'], color=colors[ind], label=data)\n",
    "                #  color=colors[ind])\n",
    "        \n",
    "      #  s=dfTemp['feature_sz'], \n",
    "ax.legend(scatterpoints=1, loc='upper left', bbox_to_anchor=(1,1))\n",
    "\n",
    "#https://stackoverflow.com/questions/17411940/matplotlib-scatter-plot-legend/17412294"
   ]
  },
  {
   "cell_type": "code",
   "execution_count": 22,
   "metadata": {},
   "outputs": [
    {
     "name": "stdout",
     "output_type": "stream",
     "text": [
      "group 1\n",
      "group 2\n",
      "group 3\n",
      "group 4\n",
      "group 5\n"
     ]
    }
   ],
   "source": [
    "for ind,data in enumerate(df['feature_cat'].unique()):\n",
    "    print(data)"
   ]
  },
  {
   "cell_type": "code",
   "execution_count": 3,
   "metadata": {},
   "outputs": [
    {
     "ename": "NameError",
     "evalue": "name 'new_labels' is not defined",
     "output_type": "error",
     "traceback": [
      "\u001b[0;31m---------------------------------------------------------------------------\u001b[0m",
      "\u001b[0;31mNameError\u001b[0m                                 Traceback (most recent call last)",
      "\u001b[0;32m<ipython-input-3-4a398dae7ae2>\u001b[0m in \u001b[0;36m<module>\u001b[0;34m()\u001b[0m\n\u001b[1;32m     11\u001b[0m                 \u001b[0;31m#s=dfTemp['feature_z'], color=colors[ind])\u001b[0m\u001b[0;34m\u001b[0m\u001b[0;34m\u001b[0m\u001b[0m\n\u001b[1;32m     12\u001b[0m \u001b[0max\u001b[0m\u001b[0;34m.\u001b[0m\u001b[0mlegend\u001b[0m\u001b[0;34m(\u001b[0m\u001b[0;34m)\u001b[0m\u001b[0;34m\u001b[0m\u001b[0m\n\u001b[0;32m---> 13\u001b[0;31m \u001b[0max\u001b[0m\u001b[0;34m.\u001b[0m\u001b[0mlegend\u001b[0m\u001b[0;34m(\u001b[0m\u001b[0mscatterpoints\u001b[0m\u001b[0;34m=\u001b[0m\u001b[0;36m1\u001b[0m\u001b[0;34m,\u001b[0m \u001b[0mlabels\u001b[0m\u001b[0;34m=\u001b[0m\u001b[0mnew_labels\u001b[0m\u001b[0;34m,\u001b[0m \u001b[0mtitle\u001b[0m\u001b[0;34m=\u001b[0m\u001b[0;34m'dropout %'\u001b[0m\u001b[0;34m,\u001b[0m \u001b[0mloc\u001b[0m\u001b[0;34m=\u001b[0m\u001b[0;34m'lower left'\u001b[0m\u001b[0;34m)\u001b[0m\u001b[0;34m\u001b[0m\u001b[0m\n\u001b[0m\u001b[1;32m     14\u001b[0m \u001b[0;34m\u001b[0m\u001b[0m\n",
      "\u001b[0;31mNameError\u001b[0m: name 'new_labels' is not defined"
     ]
    },
    {
     "data": {
      "image/png": "[encoded data removed]",
      "text/plain": [
       "<matplotlib.figure.Figure at 0x117919278>"
      ]
     },
     "metadata": {},
     "output_type": "display_data"
    }
   ],
   "source": [
    "fig, ax = plt.subplots(1, figsize=(6, 6))\n",
    "\n",
    "colors=['gray', 'blue', 'green', 'yellow', 'red']\n",
    "\n",
    "# use an existing color map and apply towards categorical variables\n",
    "cmap = sns.color_palette(\"GnBu\", 5)\n",
    "\n",
    "for ind,data in enumerate(df['feature_cat'].unique()):\n",
    "    dfTemp = df[df['feature_cat']==data]\n",
    "    ax.scatter(x=dfTemp['feature_x'], y=dfTemp['feature_y'], color=colors[ind])\n",
    "                #s=dfTemp['feature_z'], color=colors[ind])\n",
    "ax.legend()\n",
    "ax.legend(scatterpoints=1, labels=new_labels, title='dropout %', loc='lower left')\n",
    "\n"
   ]
  },
  {
   "cell_type": "code",
   "execution_count": null,
   "metadata": {
    "collapsed": true
   },
   "outputs": [],
   "source": [
    "colorList =['gray', 'blue', 'green', 'yellow', 'red']\n",
    "\n",
    "for ind,data in enumerate(df['feature_cat'].unique()):\n",
    "    colorGrouping\n",
    "    \n",
    "    "
   ]
  },
  {
   "cell_type": "code",
   "execution_count": null,
   "metadata": {
    "collapsed": true
   },
   "outputs": [],
   "source": [
    "#https://stackoverflow.com/questions/26139423/plot-different-color-for-different-categorical-levels-using-matplotlib\n",
    "\n",
    "colors = {'D':'red', 'E':'blue', 'F':'green', 'G':'black'}\n",
    "ax.scatter(df['carat'], df['price'], c=df['color'].apply(lambda x: colors[x]))\n"
   ]
  },
  {
   "cell_type": "code",
   "execution_count": 17,
   "metadata": {
    "scrolled": false
   },
   "outputs": [
    {
     "data": {
      "text/plain": [
       "<matplotlib.collections.PathCollection at 0x11732b710>"
      ]
     },
     "execution_count": 17,
     "metadata": {},
     "output_type": "execute_result"
    },
    {
     "data": {
      "image/png": "[encoded data removed]",
      "text/plain": [
       "<matplotlib.figure.Figure at 0x1171ecc50>"
      ]
     },
     "metadata": {},
     "output_type": "display_data"
    }
   ],
   "source": [
    "dfTemp = df[df['feature_cat']=='group 1']\n",
    "plt.scatter(x=dfTemp['feature_x'], y=dfTemp['feature_y'], color=colors[0])\n",
    "\n",
    "dfTemp = df[df['feature_cat']=='group 2']\n",
    "plt.scatter(x=dfTemp['feature_x'], y=dfTemp['feature_y'], color=colors[1])\n",
    "\n",
    "dfTemp = df[df['feature_cat']=='group 3']\n",
    "plt.scatter(x=dfTemp['feature_x'], y=dfTemp['feature_y'], color=colors[2])\n",
    "\n",
    "dfTemp = df[df['feature_cat']=='group 4']\n",
    "plt.scatter(x=dfTemp['feature_x'], y=dfTemp['feature_y'], color=colors[3])\n",
    "\n",
    "dfTemp = df[df['feature_cat']=='group 5']\n",
    "plt.scatter(x=dfTemp['feature_x'], y=dfTemp['feature_y'], color=colors[4])\n",
    "\n",
    "# plt.legend()"
   ]
  },
  {
   "cell_type": "code",
   "execution_count": 11,
   "metadata": {},
   "outputs": [
    {
     "data": {
      "text/plain": [
       "<matplotlib.legend.Legend at 0x11697f2b0>"
      ]
     },
     "execution_count": 11,
     "metadata": {},
     "output_type": "execute_result"
    },
    {
     "data": {
      "image/png": "[encoded data removed]",
      "text/plain": [
       "<matplotlib.figure.Figure at 0x11697f9b0>"
      ]
     },
     "metadata": {},
     "output_type": "display_data"
    }
   ],
   "source": [
    "fig, ax = plt.subplots(1)\n",
    "colors = {'group 1':'red', 'group 2':'blue', 'group 3':'green', 'group 4':'black', 'group 5':'gray'}\n",
    "ax.scatter(df['feature_x'], df['feature_y'], c=df['feature_cat'].apply(lambda x: colors[x]))\n",
    "ax.legend()"
   ]
  },
  {
   "cell_type": "code",
   "execution_count": null,
   "metadata": {
    "collapsed": true
   },
   "outputs": [],
   "source": [
    "# 3.1.3.2 Scatter plot using matplotlib syntax + size coding + color coding (context)\n",
    "\n",
    "\n",
    "\n",
    "plt.scatter(x=df['feature_x'], y=df['feature_y'], s=df['feature_z'], c=df['feature_c'], cmap=None)\n",
    "\n",
    "# note the default cmap. If None, defaults to rc image.cmap.\n"
   ]
  },
  {
   "cell_type": "code",
   "execution_count": null,
   "metadata": {
    "collapsed": true
   },
   "outputs": [],
   "source": [
    "# 3.1.4 Scatter plot using matplotlib syntax + size coding + color coding + aesthetic customization\n",
    "\n",
    "my_cmap = 'Spectral' # if a change in the default color map is desired, change this before plotting\n",
    "plt.scatter(x=df['feature_x'], y=df['feature_y'], s=df['feature_z'], c=df['feature_c'], cmap=my_cmap)\n",
    "plt.colorbar()\n",
    "\n",
    "# Make labels. These commands work on the current axes.\n",
    "plt.ylabel('Y axis label')\n",
    "plt.xlabel('X axis label')\n",
    "plt.title('X vs. Y')\n"
   ]
  },
  {
   "cell_type": "code",
   "execution_count": 71,
   "metadata": {
    "collapsed": true
   },
   "outputs": [],
   "source": [
    "# 3.1.5 Scatter plot using matplotlib syntax + size coding + color coding + aesthetic customization + regression line\n",
    "\n"
   ]
  },
  {
   "cell_type": "markdown",
   "metadata": {},
   "source": [
    "## 3.2 Matplotlib Axes syntax\n",
    "\n",
    "https://matplotlib.org/api/_as_gen/matplotlib.axes.Axes.scatter.html"
   ]
  },
  {
   "cell_type": "code",
   "execution_count": null,
   "metadata": {
    "collapsed": true
   },
   "outputs": [],
   "source": []
  },
  {
   "cell_type": "code",
   "execution_count": 222,
   "metadata": {},
   "outputs": [
    {
     "data": {
      "image/png": "[encoded data removed]",
      "text/plain": [
       "<matplotlib.figure.Figure at 0x1298c89e8>"
      ]
     },
     "metadata": {},
     "output_type": "display_data"
    }
   ],
   "source": [
    "fig, ax = plt.subplots(1, figsize=(6, 6))\n",
    "\n",
    "colors=['gray', 'blue', 'green', 'yellow', 'red']\n",
    "for ind,data in enumerate(df['feature_cat'].unique()):\n",
    "    dfTemp = df[df['feature_cat']==i]\n",
    "    ax.scatter(x=dfTemp['feature_x'], y=dfTemp['feature_y'],\n",
    "                s=dfTemp['feature_z'], color=colors[ind])"
   ]
  },
  {
   "cell_type": "code",
   "execution_count": 109,
   "metadata": {},
   "outputs": [
    {
     "data": {
      "text/plain": [
       "<matplotlib.collections.PathCollection at 0x125a15390>"
      ]
     },
     "execution_count": 109,
     "metadata": {},
     "output_type": "execute_result"
    },
    {
     "data": {
      "image/png": "[encoded data removed]",
      "text/plain": [
       "<matplotlib.figure.Figure at 0x125cc9a20>"
      ]
     },
     "metadata": {},
     "output_type": "display_data"
    }
   ],
   "source": [
    "# 3.2.1 Basic scatter plot\n",
    "# the initialization of a figure is necessary\n",
    "\n",
    "fig, ax = plt.subplots(1, figsize=(6, 6))\n",
    "ax.scatter(x=df['feature_x'], y=df['feature_y'])\n"
   ]
  },
  {
   "cell_type": "code",
   "execution_count": 105,
   "metadata": {},
   "outputs": [
    {
     "data": {
      "text/plain": [
       "<matplotlib.collections.PathCollection at 0x12604ca20>"
      ]
     },
     "execution_count": 105,
     "metadata": {},
     "output_type": "execute_result"
    },
    {
     "data": {
      "image/png": "[encoded data removed]",
      "text/plain": [
       "<matplotlib.figure.Figure at 0x1264cc0b8>"
      ]
     },
     "metadata": {},
     "output_type": "display_data"
    }
   ],
   "source": [
    "# 3.2.2 Basic scatter plot + size coding\n",
    "\n",
    "fig, ax = plt.subplots(1, figsize=(6, 6))\n",
    "ax.scatter(x=df['feature_x'], y=df['feature_y'], s=df['feature_z'])\n"
   ]
  },
  {
   "cell_type": "code",
   "execution_count": 106,
   "metadata": {},
   "outputs": [
    {
     "data": {
      "text/plain": [
       "<matplotlib.collections.PathCollection at 0x125e330f0>"
      ]
     },
     "execution_count": 106,
     "metadata": {},
     "output_type": "execute_result"
    },
    {
     "data": {
      "image/png": "[encoded data removed]",
      "text/plain": [
       "<matplotlib.figure.Figure at 0x125a12780>"
      ]
     },
     "metadata": {},
     "output_type": "display_data"
    }
   ],
   "source": [
    "# 3.2.3 Basic scatter plot + size coding + color coding\n",
    "\n",
    "fig, ax = plt.subplots(1, figsize=(6, 6))\n",
    "ax.scatter(x=df['feature_x'], y=df['feature_y'], s=df['feature_z'], c=df['feature_c'])\n",
    "\n",
    "# note default color scheme is like in 3.1.3"
   ]
  },
  {
   "cell_type": "code",
   "execution_count": 107,
   "metadata": {},
   "outputs": [
    {
     "data": {
      "text/plain": [
       "<matplotlib.text.Text at 0x12603f198>"
      ]
     },
     "execution_count": 107,
     "metadata": {},
     "output_type": "execute_result"
    },
    {
     "data": {
      "image/png": "[encoded data removed]",
      "text/plain": [
       "<matplotlib.figure.Figure at 0x12606a4e0>"
      ]
     },
     "metadata": {},
     "output_type": "display_data"
    }
   ],
   "source": [
    "# 3.2.4 Basic scatter plot + size coding + color coding + aesthetic customization\n",
    "\n",
    "fig, ax = plt.subplots(1, figsize=(6, 6))\n",
    "my_cmap = 'Spectral' # if a change in the default color map is desired, change this before plotting\n",
    "\n",
    "ax.scatter(x=df['feature_x'], y=df['feature_y'], s=df['feature_z'], c=df['feature_c'], cmap=my_cmap)\n",
    "\n",
    "# make labels\n",
    "ax.set_ylabel('Y axis label')\n",
    "ax.set_xlabel('X axis label')\n",
    "ax.set_title('X vs. Y')\n"
   ]
  },
  {
   "cell_type": "code",
   "execution_count": null,
   "metadata": {
    "collapsed": true
   },
   "outputs": [],
   "source": [
    "# 3.2.5 Scatter plot using matplotlib syntax + size coding + color coding + aesthetic customization + regression line\n",
    "\n",
    "\n"
   ]
  },
  {
   "cell_type": "markdown",
   "metadata": {},
   "source": [
    "## 4. Seaborn syntax\n",
    "\n",
    "\n",
    "\n"
   ]
  },
  {
   "cell_type": "markdown",
   "metadata": {},
   "source": [
    "### 4.1 Seaborn regplot"
   ]
  },
  {
   "cell_type": "code",
   "execution_count": 116,
   "metadata": {},
   "outputs": [
    {
     "data": {
      "text/plain": [
       "<matplotlib.axes._subplots.AxesSubplot at 0x125ce1128>"
      ]
     },
     "execution_count": 116,
     "metadata": {},
     "output_type": "execute_result"
    },
    {
     "data": {
      "image/png": "[encoded data removed]",
      "text/plain": [
       "<matplotlib.figure.Figure at 0x126062208>"
      ]
     },
     "metadata": {},
     "output_type": "display_data"
    }
   ],
   "source": [
    "# 4.1.1 Basic scatter plot using seaborn regplot syntax\n",
    "\n",
    "sns.regplot('feature_x', 'feature_y', data=df, fit_reg=False)\n",
    "\n",
    "# This requires some more explicit syntax. You need to specify the dataframe and also turn off the regression fit which happens by default."
   ]
  },
  {
   "cell_type": "code",
   "execution_count": 152,
   "metadata": {},
   "outputs": [
    {
     "data": {
      "text/plain": [
       "<matplotlib.axes._subplots.AxesSubplot at 0x126dfa2e8>"
      ]
     },
     "execution_count": 152,
     "metadata": {},
     "output_type": "execute_result"
    },
    {
     "data": {
      "image/png": "[encoded data removed]",
      "text/plain": [
       "<matplotlib.figure.Figure at 0x126bf8f28>"
      ]
     },
     "metadata": {},
     "output_type": "display_data"
    }
   ],
   "source": [
    "# 4.1.2 Scatter plot using seaborn regplot syntax + size coding\n",
    "\n",
    "sns.regplot(data=df, 'feature_x', 'feature_y', scatter_kws={'s':df['feature_z']}, fit_reg=False)\n",
    "\n",
    "# note how the scatter_kws parameter allows you to copy the matplotlib syntax,\n",
    "# except using dictionary key-value pair syntax instead of setting the parameter equal to the value"
   ]
  },
  {
   "cell_type": "code",
   "execution_count": 155,
   "metadata": {
    "collapsed": true
   },
   "outputs": [],
   "source": [
    "?sns.regplot()"
   ]
  },
  {
   "cell_type": "code",
   "execution_count": 153,
   "metadata": {},
   "outputs": [
    {
     "data": {
      "text/plain": [
       "<matplotlib.axes._subplots.AxesSubplot at 0x126b094e0>"
      ]
     },
     "execution_count": 153,
     "metadata": {},
     "output_type": "execute_result"
    },
    {
     "data": {
      "image/png": "[encoded data removed]",
      "text/plain": [
       "<matplotlib.figure.Figure at 0x126adccc0>"
      ]
     },
     "metadata": {},
     "output_type": "display_data"
    }
   ],
   "source": [
    "# 4.1.3 Basic scatter plot using seaborn syntax + with size coding + color coding\n",
    "\n",
    "sns.regplot('feature_x', 'feature_y', data=df,\n",
    "            scatter_kws={'s':df['feature_z'], 'c':df['feature_c']},\n",
    "            fit_reg=False)\n",
    "\n",
    "# add to the scatter_kws parameters"
   ]
  },
  {
   "cell_type": "code",
   "execution_count": 169,
   "metadata": {},
   "outputs": [
    {
     "ename": "AttributeError",
     "evalue": "'AxesSubplot' object has no attribute 'autoscale_None'",
     "output_type": "error",
     "traceback": [
      "\u001b[0;31m---------------------------------------------------------------------------\u001b[0m",
      "\u001b[0;31mAttributeError\u001b[0m                            Traceback (most recent call last)",
      "\u001b[0;32m<ipython-input-169-4cc44f887b1d>\u001b[0m in \u001b[0;36m<module>\u001b[0;34m()\u001b[0m\n\u001b[1;32m     12\u001b[0m \u001b[0max\u001b[0m\u001b[0;34m.\u001b[0m\u001b[0mset_xlabel\u001b[0m\u001b[0;34m(\u001b[0m\u001b[0;34m'X axis label'\u001b[0m\u001b[0;34m)\u001b[0m\u001b[0;34m\u001b[0m\u001b[0m\n\u001b[1;32m     13\u001b[0m \u001b[0max\u001b[0m\u001b[0;34m.\u001b[0m\u001b[0mset_title\u001b[0m\u001b[0;34m(\u001b[0m\u001b[0;34m'X vs. Y'\u001b[0m\u001b[0;34m)\u001b[0m\u001b[0;34m\u001b[0m\u001b[0m\n\u001b[0;32m---> 14\u001b[0;31m \u001b[0mfig\u001b[0m\u001b[0;34m.\u001b[0m\u001b[0mcolorbar\u001b[0m\u001b[0;34m(\u001b[0m\u001b[0max\u001b[0m\u001b[0;34m)\u001b[0m\u001b[0;34m\u001b[0m\u001b[0m\n\u001b[0m",
      "\u001b[0;32m/Users/lacar/anaconda/lib/python3.5/site-packages/matplotlib/figure.py\u001b[0m in \u001b[0;36mcolorbar\u001b[0;34m(self, mappable, cax, ax, use_gridspec, **kw)\u001b[0m\n\u001b[1;32m   1593\u001b[0m                 \u001b[0mcax\u001b[0m\u001b[0;34m,\u001b[0m \u001b[0mkw\u001b[0m \u001b[0;34m=\u001b[0m \u001b[0mcbar\u001b[0m\u001b[0;34m.\u001b[0m\u001b[0mmake_axes\u001b[0m\u001b[0;34m(\u001b[0m\u001b[0max\u001b[0m\u001b[0;34m,\u001b[0m \u001b[0;34m**\u001b[0m\u001b[0mkw\u001b[0m\u001b[0;34m)\u001b[0m\u001b[0;34m\u001b[0m\u001b[0m\n\u001b[1;32m   1594\u001b[0m         \u001b[0mcax\u001b[0m\u001b[0;34m.\u001b[0m\u001b[0mhold\u001b[0m\u001b[0;34m(\u001b[0m\u001b[0;32mTrue\u001b[0m\u001b[0;34m)\u001b[0m\u001b[0;34m\u001b[0m\u001b[0m\n\u001b[0;32m-> 1595\u001b[0;31m         \u001b[0mcb\u001b[0m \u001b[0;34m=\u001b[0m \u001b[0mcbar\u001b[0m\u001b[0;34m.\u001b[0m\u001b[0mcolorbar_factory\u001b[0m\u001b[0;34m(\u001b[0m\u001b[0mcax\u001b[0m\u001b[0;34m,\u001b[0m \u001b[0mmappable\u001b[0m\u001b[0;34m,\u001b[0m \u001b[0;34m**\u001b[0m\u001b[0mkw\u001b[0m\u001b[0;34m)\u001b[0m\u001b[0;34m\u001b[0m\u001b[0m\n\u001b[0m\u001b[1;32m   1596\u001b[0m \u001b[0;34m\u001b[0m\u001b[0m\n\u001b[1;32m   1597\u001b[0m         \u001b[0mself\u001b[0m\u001b[0;34m.\u001b[0m\u001b[0msca\u001b[0m\u001b[0;34m(\u001b[0m\u001b[0mcurrent_ax\u001b[0m\u001b[0;34m)\u001b[0m\u001b[0;34m\u001b[0m\u001b[0m\n",
      "\u001b[0;32m/Users/lacar/anaconda/lib/python3.5/site-packages/matplotlib/colorbar.py\u001b[0m in \u001b[0;36mcolorbar_factory\u001b[0;34m(cax, mappable, **kwargs)\u001b[0m\n\u001b[1;32m   1328\u001b[0m         \u001b[0mcb\u001b[0m \u001b[0;34m=\u001b[0m \u001b[0mColorbarPatch\u001b[0m\u001b[0;34m(\u001b[0m\u001b[0mcax\u001b[0m\u001b[0;34m,\u001b[0m \u001b[0mmappable\u001b[0m\u001b[0;34m,\u001b[0m \u001b[0;34m**\u001b[0m\u001b[0mkwargs\u001b[0m\u001b[0;34m)\u001b[0m\u001b[0;34m\u001b[0m\u001b[0m\n\u001b[1;32m   1329\u001b[0m     \u001b[0;32melse\u001b[0m\u001b[0;34m:\u001b[0m\u001b[0;34m\u001b[0m\u001b[0m\n\u001b[0;32m-> 1330\u001b[0;31m         \u001b[0mcb\u001b[0m \u001b[0;34m=\u001b[0m \u001b[0mColorbar\u001b[0m\u001b[0;34m(\u001b[0m\u001b[0mcax\u001b[0m\u001b[0;34m,\u001b[0m \u001b[0mmappable\u001b[0m\u001b[0;34m,\u001b[0m \u001b[0;34m**\u001b[0m\u001b[0mkwargs\u001b[0m\u001b[0;34m)\u001b[0m\u001b[0;34m\u001b[0m\u001b[0m\n\u001b[0m\u001b[1;32m   1331\u001b[0m \u001b[0;34m\u001b[0m\u001b[0m\n\u001b[1;32m   1332\u001b[0m     \u001b[0mcid\u001b[0m \u001b[0;34m=\u001b[0m \u001b[0mmappable\u001b[0m\u001b[0;34m.\u001b[0m\u001b[0mcallbacksSM\u001b[0m\u001b[0;34m.\u001b[0m\u001b[0mconnect\u001b[0m\u001b[0;34m(\u001b[0m\u001b[0;34m'changed'\u001b[0m\u001b[0;34m,\u001b[0m \u001b[0mcb\u001b[0m\u001b[0;34m.\u001b[0m\u001b[0mon_mappable_changed\u001b[0m\u001b[0;34m)\u001b[0m\u001b[0;34m\u001b[0m\u001b[0m\n",
      "\u001b[0;32m/Users/lacar/anaconda/lib/python3.5/site-packages/matplotlib/colorbar.py\u001b[0m in \u001b[0;36m__init__\u001b[0;34m(self, ax, mappable, **kw)\u001b[0m\n\u001b[1;32m    878\u001b[0m         \u001b[0;31m# Ensure the given mappable's norm has appropriate vmin and vmax set\u001b[0m\u001b[0;34m\u001b[0m\u001b[0;34m\u001b[0m\u001b[0m\n\u001b[1;32m    879\u001b[0m         \u001b[0;31m# even if mappable.draw has not yet been called.\u001b[0m\u001b[0;34m\u001b[0m\u001b[0;34m\u001b[0m\u001b[0m\n\u001b[0;32m--> 880\u001b[0;31m         \u001b[0mmappable\u001b[0m\u001b[0;34m.\u001b[0m\u001b[0mautoscale_None\u001b[0m\u001b[0;34m(\u001b[0m\u001b[0;34m)\u001b[0m\u001b[0;34m\u001b[0m\u001b[0m\n\u001b[0m\u001b[1;32m    881\u001b[0m \u001b[0;34m\u001b[0m\u001b[0m\n\u001b[1;32m    882\u001b[0m         \u001b[0mself\u001b[0m\u001b[0;34m.\u001b[0m\u001b[0mmappable\u001b[0m \u001b[0;34m=\u001b[0m \u001b[0mmappable\u001b[0m\u001b[0;34m\u001b[0m\u001b[0m\n",
      "\u001b[0;31mAttributeError\u001b[0m: 'AxesSubplot' object has no attribute 'autoscale_None'"
     ]
    },
    {
     "data": {
      "image/png": "[encoded data removed]",
      "text/plain": [
       "<matplotlib.figure.Figure at 0x127d94e48>"
      ]
     },
     "metadata": {},
     "output_type": "display_data"
    }
   ],
   "source": [
    "# 4.1.4 Basic scatter plot using seaborn regplot syntax +  size coding + color coding + aesthetic customization\n",
    "\n",
    "fig, ax = plt.subplots(1, figsize=(6, 6))\n",
    "my_cmap = 'Spectral' # if a change in the default color map is desired, change this before plotting\n",
    "\n",
    "ax = sns.regplot('feature_x', 'feature_y', data=df,\n",
    "                 scatter_kws={'s':df['feature_z'], 'c':df['feature_c'], 'cmap':my_cmap},\n",
    "                 fit_reg=False)  #,  ,      # no easy size coding\n",
    "\n",
    "# make labels\n",
    "ax.set_ylabel('Y axis label')\n",
    "ax.set_xlabel('X axis label')\n",
    "ax.set_title('X vs. Y')"
   ]
  },
  {
   "cell_type": "code",
   "execution_count": 171,
   "metadata": {},
   "outputs": [
    {
     "data": {
      "text/plain": [
       "<matplotlib.legend.Legend at 0x127b6a390>"
      ]
     },
     "execution_count": 171,
     "metadata": {},
     "output_type": "execute_result"
    },
    {
     "data": {
      "image/png": "[encoded data removed]",
      "text/plain": [
       "<matplotlib.figure.Figure at 0x127f501d0>"
      ]
     },
     "metadata": {},
     "output_type": "display_data"
    }
   ],
   "source": [
    "# 4.1.4 Basic scatter plot using seaborn regplot syntax +  size coding + color coding + aesthetic customization + legend\n",
    "\n",
    "fig, ax = plt.subplots(1, figsize=(6, 6))\n",
    "my_cmap = 'Spectral' # if a change in the default color map is desired, change this before plotting\n",
    "\n",
    "ax = sns.regplot('feature_x', 'feature_y', data=df,\n",
    "                 scatter_kws={'s':df['feature_z'], 'c':df['feature_c'], 'cmap':my_cmap,\n",
    "                             'label':'test'},\n",
    "                 fit_reg=False)  #,  ,      # no easy size coding\n",
    "\n",
    "# make labels\n",
    "ax.set_ylabel('Y axis label')\n",
    "ax.set_xlabel('X axis label')\n",
    "ax.set_title('X vs. Y')\n",
    "ax.legend('points')"
   ]
  },
  {
   "cell_type": "code",
   "execution_count": 173,
   "metadata": {
    "collapsed": true
   },
   "outputs": [],
   "source": [
    "?sns.lmplot"
   ]
  },
  {
   "cell_type": "markdown",
   "metadata": {},
   "source": [
    "### 4.2 Seaborn lmplot\n",
    "\n"
   ]
  },
  {
   "cell_type": "code",
   "execution_count": 175,
   "metadata": {},
   "outputs": [
    {
     "data": {
      "text/plain": [
       "<seaborn.axisgrid.FacetGrid at 0x127a4a2b0>"
      ]
     },
     "execution_count": 175,
     "metadata": {},
     "output_type": "execute_result"
    },
    {
     "data": {
      "image/png": "[encoded data removed]",
      "text/plain": [
       "<matplotlib.figure.Figure at 0x127a5d8d0>"
      ]
     },
     "metadata": {},
     "output_type": "display_data"
    }
   ],
   "source": [
    "# 4.2.1 Basic scatter plot using seaborn lmplot syntax\n",
    "\n",
    "sns.lmplot(x='feature_x', y='feature_y', data=df, fit_reg=False)\n",
    "\n",
    "# like sns.regplot, the fit_reg is turned on by default so it's necessary to turn it off"
   ]
  },
  {
   "cell_type": "code",
   "execution_count": 178,
   "metadata": {},
   "outputs": [
    {
     "data": {
      "text/plain": [
       "<seaborn.axisgrid.FacetGrid at 0x12781e438>"
      ]
     },
     "execution_count": 178,
     "metadata": {},
     "output_type": "execute_result"
    },
    {
     "data": {
      "image/png": "[encoded data removed]",
      "text/plain": [
       "<matplotlib.figure.Figure at 0x12781e128>"
      ]
     },
     "metadata": {},
     "output_type": "display_data"
    }
   ],
   "source": [
    "# 4.2.2 Scatter plot using seaborn lmplot syntax + size coding\n",
    "\n",
    "sns.lmplot(x='feature_x', y='feature_y', data=df,\n",
    "           scatter_kws={'s':df['feature_z']},\n",
    "           fit_reg=False)\n",
    "\n",
    "# Like regplot, pass size (and color) parameters in scatter_kws"
   ]
  },
  {
   "cell_type": "code",
   "execution_count": 200,
   "metadata": {},
   "outputs": [
    {
     "data": {
      "text/plain": [
       "<seaborn.axisgrid.FacetGrid at 0x128d68860>"
      ]
     },
     "execution_count": 200,
     "metadata": {},
     "output_type": "execute_result"
    },
    {
     "data": {
      "image/png": "[encoded data removed]",
      "text/plain": [
       "<matplotlib.figure.Figure at 0x128d68908>"
      ]
     },
     "metadata": {},
     "output_type": "display_data"
    }
   ],
   "source": [
    "# 4.2.3.1 Scatter plot using seaborn lmplot syntax + size coding + color coding (regression)\n",
    "\n",
    "sns.lmplot(x='feature_x', y='feature_y', data=df,\n",
    "           scatter_kws={'s':df['feature_z'], 'c':df['feature_c']},\n",
    "           fit_reg=False)\n",
    "\n",
    "# like in sns.regplot, passing in parameters using scatter_kws is good for representing colors in a regression context"
   ]
  },
  {
   "cell_type": "code",
   "execution_count": 209,
   "metadata": {},
   "outputs": [
    {
     "data": {
      "text/plain": [
       "<seaborn.axisgrid.FacetGrid at 0x129644390>"
      ]
     },
     "execution_count": 209,
     "metadata": {},
     "output_type": "execute_result"
    },
    {
     "data": {
      "image/png": "[encoded data removed]",
      "text/plain": [
       "<matplotlib.figure.Figure at 0x12963fa58>"
      ]
     },
     "metadata": {},
     "output_type": "display_data"
    }
   ],
   "source": [
    "# 4.2.3.1 Basic scatter plot using seaborn regplot syntax + size coding + color coding (classification)\n",
    "\n",
    "sns.lmplot(x='feature_x', y='feature_y', data=df,\n",
    "           hue='feature_cat', scatter_kws={'s':df['feature_z']**1.5},\n",
    "           fit_reg=False)\n",
    "\n",
    "# Hue is good for coloring in a classification setting. a legend is created automatically.\n",
    "# Use scatter_kws to control size, although if the default isn't represented\n",
    "# well initially (as in my example), pass in a constant to multiply by"
   ]
  },
  {
   "cell_type": "code",
   "execution_count": null,
   "metadata": {
    "collapsed": true
   },
   "outputs": [],
   "source": [
    "# 4.2.4 Basic scatter plot using seaborn regplot syntax +  size coding + color coding + aesthetic customization + legend\n",
    "\n",
    "\n",
    "fig, ax = plt.subplots(1, figsize=(6, 6))\n",
    "my_cmap = 'Spectral' # if a change in the default color map is desired, change this before plotting\n",
    "\n",
    "ax = sns.regplot('feature_x', 'feature_y', data=df,\n",
    "                 scatter_kws={'s':df['feature_z'], 'c':df['feature_c'], 'cmap':my_cmap,\n",
    "                             'label':'test'},\n",
    "                 fit_reg=False)  #,  ,      # no easy size coding\n",
    "\n",
    "# make labels\n",
    "ax.set_ylabel('Y axis label')\n",
    "ax.set_xlabel('X axis label')\n",
    "ax.set_title('X vs. Y')\n",
    "ax.legend('points')\n"
   ]
  },
  {
   "cell_type": "code",
   "execution_count": null,
   "metadata": {
    "collapsed": true
   },
   "outputs": [],
   "source": [
    "# 4.1.4 Basic scatter plot using seaborn regplot syntax +  size coding + color coding + aesthetic customization + legend\n",
    "\n",
    "\n",
    "\n",
    "sns.lmplot(x='PCAx', y='PCAy', data=df_forPCA2,\n",
    "                 hue='dropout category', ci=None, fit_reg=False,\n",
    "                 size=4, palette=sns.color_palette(\"RdPu\", 5))\n",
    "\n",
    "\n"
   ]
  },
  {
   "cell_type": "code",
   "execution_count": null,
   "metadata": {
    "collapsed": true
   },
   "outputs": [],
   "source": []
  },
  {
   "cell_type": "code",
   "execution_count": null,
   "metadata": {
    "collapsed": true
   },
   "outputs": [],
   "source": []
  },
  {
   "cell_type": "code",
   "execution_count": 172,
   "metadata": {},
   "outputs": [
    {
     "ename": "NameError",
     "evalue": "name 'df_forPCA2' is not defined",
     "output_type": "error",
     "traceback": [
      "\u001b[0;31m---------------------------------------------------------------------------\u001b[0m",
      "\u001b[0;31mNameError\u001b[0m                                 Traceback (most recent call last)",
      "\u001b[0;32m<ipython-input-172-d611ecf21e93>\u001b[0m in \u001b[0;36m<module>\u001b[0;34m()\u001b[0m\n\u001b[1;32m      1\u001b[0m \u001b[0;34m\u001b[0m\u001b[0m\n\u001b[1;32m      2\u001b[0m \u001b[0;31m#f, ax1 = plt.subplots(1, 1, figsize=(6,4));\u001b[0m\u001b[0;34m\u001b[0m\u001b[0;34m\u001b[0m\u001b[0m\n\u001b[0;32m----> 3\u001b[0;31m ax1 = sns.lmplot(x='PCAx', y='PCAy', data=df_forPCA2,\n\u001b[0m\u001b[1;32m      4\u001b[0m                  \u001b[0mhue\u001b[0m\u001b[0;34m=\u001b[0m\u001b[0;34m'dropout category'\u001b[0m\u001b[0;34m,\u001b[0m \u001b[0mci\u001b[0m\u001b[0;34m=\u001b[0m\u001b[0;32mNone\u001b[0m\u001b[0;34m,\u001b[0m \u001b[0mfit_reg\u001b[0m\u001b[0;34m=\u001b[0m\u001b[0;32mFalse\u001b[0m\u001b[0;34m,\u001b[0m\u001b[0;34m\u001b[0m\u001b[0m\n\u001b[1;32m      5\u001b[0m                  size=4, palette=sns.color_palette(\"RdPu\", 5))\n",
      "\u001b[0;31mNameError\u001b[0m: name 'df_forPCA2' is not defined"
     ]
    }
   ],
   "source": [
    "\n",
    "#f, ax1 = plt.subplots(1, 1, figsize=(6,4));\n",
    "ax1 = sns.lmplot(x='PCAx', y='PCAy', data=df_forPCA2,\n",
    "                 hue='dropout category', ci=None, fit_reg=False,\n",
    "                 size=4, palette=sns.color_palette(\"RdPu\", 5))\n",
    "\n",
    "\n",
    "#OrRd\n",
    "\n",
    "# ax1.set(xlabel='', ylabel='', title='School demographic clusters (PCA), by dropout %')\n",
    "\n",
    "# # replace figure labels\n",
    "# new_labels = ['<1%', '1-2%', '2-5%', '5-10%', '>10%']\n",
    "# for t, l in zip(ax1._legend.texts, new_labels): t.set_text(l)\n",
    "\n",
    "# # figure properties\n",
    "# sns.set(font='Franklin Gothic Book')\n",
    "# sns.set_style(style='white')\n",
    "# sns.despine(left=True, bottom=True, right=True)   #  remove frame\n",
    "# plt.xticks((np.arange(-.8, 0.9, 0.8)))\n",
    "\n",
    "# # to accomodate labeling\n",
    "# plt.subplots_adjust(bottom=0.1, top=0.9, left=0.12, right=0.97)\n",
    "\n",
    "# save figure\n",
    "#plt.savefig('PCA_byDropoutPerc.png', dpi=400)"
   ]
  },
  {
   "cell_type": "code",
   "execution_count": null,
   "metadata": {
    "collapsed": true
   },
   "outputs": [],
   "source": []
  },
  {
   "cell_type": "code",
   "execution_count": null,
   "metadata": {
    "collapsed": true
   },
   "outputs": [],
   "source": []
  },
  {
   "cell_type": "code",
   "execution_count": null,
   "metadata": {
    "collapsed": true
   },
   "outputs": [],
   "source": []
  },
  {
   "cell_type": "code",
   "execution_count": null,
   "metadata": {
    "collapsed": true
   },
   "outputs": [],
   "source": [
    "# plt.figure()\n",
    "\n",
    "# XaxisData = 'TOTAL_READ'\n",
    "# YaxisData ='PCT_READS_MAPPED_TO_GENOME'\n",
    "# ax = dfMetTP2.plot.scatter(x=XaxisData, y=YaxisData, color=F_purple)\n",
    "# fontTitle = {'fontname' : 'Montserrat'}\n",
    "# font1 = {'fontname':'Proxima Nova'}\n",
    "# plt.title(XaxisData.replace('_', ' ') + ' vs. ' + YaxisData.replace('_', ' '), **fontTitle)\n",
    "# plt.xlabel(XaxisData.replace('_', ' '), **font1)\n",
    "# plt.ylabel(YaxisData.replace('_', ' '), **font1)\n",
    "\n",
    "# fig = ax.get_figure()\n",
    "# fig.savefig(XaxisData + '_vs_' + YaxisData + '.png')\n",
    "\n",
    "# may need to edit for now\n",
    "# Plotting scatter plot with colors\n",
    "# plt.rcParams.update(pd.tools.plotting.mpl_stylesheet)\n",
    "# colors = [F_purple, F_magenta, F_teal] # list( F_colors[i] for i in [0, 2, 4] ) # F_colors # pd.tools.plotting._get_standard_colors(len(groups), color_type='random')\n",
    "\n",
    "# fig, ax = plt.subplots()\n",
    "# # ax.set_color_cycle(colors)\n",
    "# ax.set_prop_cycle(c=colors)\n",
    "# ax.margins(0.05)\n",
    "# for name, group in IFCgroup:\n",
    "#     ax.plot(group.TOTAL_READ, group.PCT_READS_MAPPED_TO_GENOME, marker='o', linestyle='', ms=6, label=name)\n",
    "# ax.legend(numpoints=1, loc='lower right')\n",
    "\n",
    "# XaxisData = 'TOTAL_READ'\n",
    "# YaxisData ='PCT_READS_MAPPED_TO_GENOME'\n",
    "\n",
    "# fontTitle = {'fontname' : 'Montserrat'}\n",
    "# font1 = {'fontname':'Proxima Nova'}\n",
    "# plt.title(XaxisData.replace('_', ' ') + ' vs. ' + YaxisData.replace('_', ' '), **fontTitle)\n",
    "# plt.xlabel(XaxisData.replace('_', ' '), **font1)\n",
    "# plt.ylabel(YaxisData.replace('_', ' '), **font1)\n",
    "\n",
    "# plt.show()"
   ]
  },
  {
   "cell_type": "code",
   "execution_count": null,
   "metadata": {
    "collapsed": true
   },
   "outputs": [],
   "source": [
    "### making one figure with different subplots, each with different properties from each other\n",
    "\n",
    "# fig = plt.figure()\n",
    "# ax1 = fig.add_subplot(111)\n",
    "# ax2 = fig.add_subplot(212)\n",
    "\n",
    "f, (ax1, ax2) = plt.subplots(1, 2, sharey=False, figsize=(12,4))   #  sharey, sharex determines control of sharing axes properties\n",
    "\n",
    "#####   properties for first figure   ##########\n",
    "xorder = sorted(dfMetTP3['IFCtype, no'].unique().tolist())\n",
    "sns.boxplot(x='IFCtype, no', y='PCT_READS_MAPPED_TO_GENOME', data=dfMetTP3,\n",
    "                          order=xorder, color='#d3d3d3', ax=ax1)   # hex value for light gray\n",
    "sns.swarmplot(x='IFCtype, no', y='PCT_READS_MAPPED_TO_GENOME', data=dfMetTP3,\n",
    "                         order=xorder, alpha=1, color=F_violet, size=3, ax=ax1) #, palette=[F_teal, F_magenta, F_purple])\n",
    "\n",
    "# plot the cutoff line\n",
    "ax1.plot([0, 18], [0.90, 0.90], linewidth=1, linestyle='dashed', color='black', alpha=0.5)  # works with ax1\n",
    "ax1.set_xticklabels(labels = xorder, rotation=90)   # works with ax1\n",
    "ax1.set_ylim(0.87, 1)  # works with ax1\n",
    "\n",
    "# plt.ylim(0.87, 1)   # matplotlib function, doesn't work with ax1\n",
    "\n",
    "vals = ax1.axes.get_yticks()\n",
    "ax1.set_yticklabels(['{:2.0f}%'.format(x*100) for x in vals])   # works with ax1\n",
    "ax1.set_ylabel('')  # works with ax1\n",
    "#plt.ylabel('')  # matplotlib function, doesn't work with ax1\n",
    "ax1.set_xlabel('')  # works with ax1\n",
    "ax1.set_title('% Reads Mapped to Genome (NA12878)')  # works with ax1\n",
    "\n",
    "# ax = plt.gca()  # this line not needed\n",
    "xvals = ax1.axes.get_xticks()\n",
    "ax1.text(len(xvals)/2-0.5, 0.892, 'spec', fontsize=10, color='black', ha='center', va='bottom')\n",
    "\n",
    "sns.boxplot(x='IFCtype, no', y='TOTAL_READ', data=dfMetTP3,\n",
    "                          order=xorder, color='#d3d3d3', ax=ax2)   # hex value for light gray\n",
    "sns.swarmplot(x='IFCtype, no', y='TOTAL_READ', data=dfMetTP3,\n",
    "                         order=xorder, alpha=1, color=F_violet, size=3, ax=ax2) #, palette=[F_teal, F_magenta, F_purple])\n",
    "\n",
    "ax2.set_xticklabels(labels = xorder, rotation=90)   # works with ax2\n",
    "# ax2.set_ylim(0.87, 1)  # works with ax1\n",
    "ax2.set_title('Total Reads (NA12878)')  # works with ax2\n",
    "\n",
    "# plt.subplots_adjust(bottom=0.2, top=0.91, left=0.12, right=0.97)\n",
    "sns.set(font='Proxima Nova')\n",
    "sns.set_style(style='white')\n",
    "\n"
   ]
  },
  {
   "cell_type": "code",
   "execution_count": null,
   "metadata": {
    "collapsed": true
   },
   "outputs": [],
   "source": []
  },
  {
   "cell_type": "markdown",
   "metadata": {},
   "source": [
    "## 5. Scatter plot using ggplot syntax"
   ]
  },
  {
   "cell_type": "code",
   "execution_count": null,
   "metadata": {
    "collapsed": true
   },
   "outputs": [],
   "source": []
  },
  {
   "cell_type": "markdown",
   "metadata": {},
   "source": [
    "### Making simulated histograms"
   ]
  },
  {
   "cell_type": "code",
   "execution_count": 4,
   "metadata": {
    "collapsed": true,
    "scrolled": true
   },
   "outputs": [],
   "source": [
    "import pandas as pd\n",
    "import numpy as np\n",
    "import matplotlib.pyplot as plt\n",
    "import seaborn as sns\n",
    "from scipy import stats, integrate\n",
    "\n",
    "% matplotlib inline"
   ]
  },
  {
   "cell_type": "code",
   "execution_count": 3,
   "metadata": {
    "collapsed": true
   },
   "outputs": [],
   "source": [
    "# colors--------------\n",
    "F_purple = '#530080'\n",
    "F_violet = '#9D0081'\n",
    "F_magenta = '#E60082'\n",
    "F_orange = '#FFAA00'\n",
    "F_red = '#D90000'\n",
    "F_lime = '#97E600'\n",
    "F_green = '#005900'\n",
    "F_teal = '#00BFBF'\n",
    "F_blue = '#002680'\n",
    "\n",
    "F_colors = [F_purple, F_violet, F_magenta, F_orange, F_red, F_lime, F_green, F_teal, 'gray', 'black', F_blue]"
   ]
  },
  {
   "cell_type": "code",
   "execution_count": 2,
   "metadata": {},
   "outputs": [
    {
     "name": "stdout",
     "output_type": "stream",
     "text": [
      "C:\\Users\\Benjamin.Lacar\\Desktop\n"
     ]
    }
   ],
   "source": [
    "# set the right directory\n",
    "import os\n",
    "path = 'C:\\\\Users\\\\Benjamin.Lacar\\\\Desktop'\n",
    "os.chdir(path) \n",
    "cwd = os.getcwd()\n",
    "print(cwd)"
   ]
  },
  {
   "cell_type": "code",
   "execution_count": 18,
   "metadata": {},
   "outputs": [
    {
     "data": {
      "image/png": "[encoded data removed]",
      "text/plain": [
       "<matplotlib.figure.Figure at 0x2db721d0e80>"
      ]
     },
     "metadata": {},
     "output_type": "display_data"
    }
   ],
   "source": [
    "# generate a set of numbers that can replicate a hypothetical bioanalyzer data\n",
    "\n",
    "#k1 = np.random.normal(loc=35.0, scale=5, size=35)   # marker 1\n",
    "k2 = np.random.normal(loc=25.0, scale=5, size=800)   # primers\n",
    "k3 = np.random.normal(loc=75.0, scale=10, size=300)    # primer dimers\n",
    "k4 = np.random.normal(loc=150.0, scale=30, size=40)    # desired peak 1\n",
    "k5 = np.random.normal(loc=300.0, scale=40, size=30)    # desired peak 2\n",
    "k6 = np.random.normal(loc=400.0, scale=40, size=40)    # genomic\n",
    "k7 = np.random.normal(loc=500.0, scale=40, size=50)    # genomic\n",
    "k8 = np.random.normal(loc=600.0, scale=40, size=40)    # genomic\n",
    "k8 = np.random.normal(loc=700.0, scale=40, size=40)    # genomic\n",
    "k8 = np.random.normal(loc=800.0, scale=40, size=40)    # genomic\n",
    "k8 = np.random.normal(loc=900.0, scale=40, size=40)    # genomic\n",
    "k9 = np.random.normal(loc=1000, scale=40, size=30)   \n",
    "k10 = np.random.normal(loc=1100, scale=40, size=30)   \n",
    "k11 = np.random.normal(loc=1200, scale=40, size=30)   \n",
    "k12 = np.random.normal(loc=1400, scale=40, size=30)   \n",
    "kC = np.concatenate([k2, k3, k3, k4, k5, k6, k7, k8, k9, k10, k11, k12])\n",
    "# plot as a histogram\n",
    "# x = np.random.normal(size=100)\n",
    "ax = sns.distplot(kC, hist=True, kde=False, bins=100, hist_kws={\"alpha\": 0.25, \"color\":F_purple});\n",
    "sns.set(font='Proxima Nova')\n",
    "sns.set_style(style='white')\n",
    "\n",
    "#ax.set_xlabel('No. of bases')\n",
    "#plt.savefig('updatedPrimerDimer_bioA.png', dpi=400)"
   ]
  },
  {
   "cell_type": "code",
   "execution_count": null,
   "metadata": {
    "collapsed": true
   },
   "outputs": [],
   "source": []
  },
  {
   "cell_type": "code",
   "execution_count": 67,
   "metadata": {
    "collapsed": true
   },
   "outputs": [],
   "source": [
    "y=np.linspace(0,100,100)"
   ]
  },
  {
   "cell_type": "code",
   "execution_count": 68,
   "metadata": {
    "collapsed": true
   },
   "outputs": [
    {
     "data": {
      "text/plain": [
       "array([   0.        ,    1.01010101,    2.02020202,    3.03030303,\n",
       "          4.04040404,    5.05050505,    6.06060606,    7.07070707,\n",
       "          8.08080808,    9.09090909,   10.1010101 ,   11.11111111,\n",
       "         12.12121212,   13.13131313,   14.14141414,   15.15151515,\n",
       "         16.16161616,   17.17171717,   18.18181818,   19.19191919,\n",
       "         20.2020202 ,   21.21212121,   22.22222222,   23.23232323,\n",
       "         24.24242424,   25.25252525,   26.26262626,   27.27272727,\n",
       "         28.28282828,   29.29292929,   30.3030303 ,   31.31313131,\n",
       "         32.32323232,   33.33333333,   34.34343434,   35.35353535,\n",
       "         36.36363636,   37.37373737,   38.38383838,   39.39393939,\n",
       "         40.4040404 ,   41.41414141,   42.42424242,   43.43434343,\n",
       "         44.44444444,   45.45454545,   46.46464646,   47.47474747,\n",
       "         48.48484848,   49.49494949,   50.50505051,   51.51515152,\n",
       "         52.52525253,   53.53535354,   54.54545455,   55.55555556,\n",
       "         56.56565657,   57.57575758,   58.58585859,   59.5959596 ,\n",
       "         60.60606061,   61.61616162,   62.62626263,   63.63636364,\n",
       "         64.64646465,   65.65656566,   66.66666667,   67.67676768,\n",
       "         68.68686869,   69.6969697 ,   70.70707071,   71.71717172,\n",
       "         72.72727273,   73.73737374,   74.74747475,   75.75757576,\n",
       "         76.76767677,   77.77777778,   78.78787879,   79.7979798 ,\n",
       "         80.80808081,   81.81818182,   82.82828283,   83.83838384,\n",
       "         84.84848485,   85.85858586,   86.86868687,   87.87878788,\n",
       "         88.88888889,   89.8989899 ,   90.90909091,   91.91919192,\n",
       "         92.92929293,   93.93939394,   94.94949495,   95.95959596,\n",
       "         96.96969697,   97.97979798,   98.98989899,  100.        ])"
      ]
     },
     "execution_count": 68,
     "metadata": {},
     "output_type": "execute_result"
    }
   ],
   "source": [
    "y"
   ]
  },
  {
   "cell_type": "code",
   "execution_count": 69,
   "metadata": {
    "collapsed": true
   },
   "outputs": [],
   "source": [
    "x = np.random.uniform(40,1000,100)\n"
   ]
  },
  {
   "cell_type": "code",
   "execution_count": 70,
   "metadata": {},
   "outputs": [
    {
     "data": {
      "text/plain": [
       "<matplotlib.collections.PathCollection at 0x1da44ef3a58>"
      ]
     },
     "execution_count": 70,
     "metadata": {},
     "output_type": "execute_result"
    },
    {
     "data": {
      "image/png": "[encoded data removed]",
      "text/plain": [
       "<matplotlib.figure.Figure at 0x1da45249828>"
      ]
     },
     "metadata": {},
     "output_type": "display_data"
    }
   ],
   "source": [
    "plt.scatter(np.sort(x), (y))"
   ]
  },
  {
   "cell_type": "code",
   "execution_count": 12,
   "metadata": {
    "scrolled": true
   },
   "outputs": [
    {
     "data": {
      "image/png": "[encoded data removed]",
      "text/plain": [
       "<matplotlib.figure.Figure at 0x23aa4c807b8>"
      ]
     },
     "metadata": {},
     "output_type": "display_data"
    }
   ],
   "source": [
    "# generate a set of numbers that can replicate a hypothetical bioanalyzer data\n",
    "\n",
    "#k1 = np.random.normal(loc=35.0, scale=5, size=35)   # marker 1\n",
    "k2 = np.random.normal(loc=50.0, scale=10, size=0)   # primers\n",
    "k3 = np.random.normal(loc=100.0, scale=10, size=0)    # primer dimers\n",
    "k4 = np.random.normal(loc=300.0, scale=15, size=70)    # desired peak 1\n",
    "k5 = np.random.normal(loc=325.0, scale=15, size=80)    # desired peak 2\n",
    "k6 = np.random.normal(loc=600.0, scale=200, size=10)    # genomic\n",
    "k7 = np.random.normal(loc=800.0, scale=200, size=10)    # genomic\n",
    "k8 = np.random.normal(loc=1000.0, scale=100, size=10)    # genomic\n",
    "#k9 = np.random.normal(loc=10380, scale=5, size=50)   # marker 2\n",
    "kC = np.concatenate([k2, k3, k4, k5, k6, k7, k8])\n",
    "# plot as a histogram\n",
    "# x = np.random.normal(size=100)\n",
    "ax = sns.distplot(kC, hist=True, kde=False, bins=100, hist_kws={\"alpha\": 0.25, \"color\":F_purple});\n",
    "sns.set(font='Proxima Nova')\n",
    "sns.set_style(style='white', )\n",
    "\n",
    "#ax.set_xlabel('No. of bases')\n",
    "\n",
    "# save figure\n",
    "plt.savefig('Plot5_new.png', dpi=400)"
   ]
  },
  {
   "cell_type": "code",
   "execution_count": null,
   "metadata": {
    "collapsed": true
   },
   "outputs": [],
   "source": [
    "scipy.stats.skew(k2, )"
   ]
  },
  {
   "cell_type": "markdown",
   "metadata": {},
   "source": [
    "# Plotting with Seaborn"
   ]
  },
  {
   "cell_type": "markdown",
   "metadata": {},
   "source": [
    "### setting axis properties\n",
    "\n",
    "see ax line down below\n",
    "https://stackoverflow.com/questions/31632637/label-axes-on-seaborn-barplot\n"
   ]
  },
  {
   "cell_type": "code",
   "execution_count": null,
   "metadata": {
    "collapsed": true
   },
   "outputs": [],
   "source": [
    "ax = sns.factorplot(y='PCT_READS_MAPPED_TO_AMPLICONS_FROM_ALIGNED_READS', data=dfMetTP2, kind=\"box\", palette=['gray'])\n",
    "ax = sns.swarmplot(x=[\"\"]*len(dfMetTP2), y='PCT_READS_MAPPED_TO_AMPLICONS_FROM_ALIGNED_READS', data=dfMetTP2, alpha=1, size=2,\n",
    "              hue='IFC_no', palette=[F_teal, F_magenta, F_purple])\n",
    "\n",
    "# plot our cutoff line\n",
    "plt.plot([-.5, 0.5], [0.95, 0.95], linewidth=1, linestyle='dashed', color='black', alpha=0.5)\n",
    "\n",
    "# for changing axes Seaborn's barplot returns an axis-object (not a figure). This means you can do the following: \n",
    "ax.set(title='% Reads Mapped to Target from Aligned Reads', ylabel='common y-label')  \n",
    "plt.ylim(0.94, 1)   # matplotlib function\n",
    "\n",
    "\n",
    "sns.set(font='Proxima Nova')\n",
    "sns.set_style(style='white')"
   ]
  },
  {
   "cell_type": "code",
   "execution_count": null,
   "metadata": {
    "collapsed": true
   },
   "outputs": [],
   "source": [
    "# saving a figure\n",
    "plt.savefig('pctReadsMappedToGenome_boxplot_byIFC_noScatter.png', dpi=400)"
   ]
  },
  {
   "cell_type": "code",
   "execution_count": null,
   "metadata": {
    "collapsed": true
   },
   "outputs": [],
   "source": [
    "# prevent saving from cutting off figure\n",
    "\n",
    "figure.autolayout : True\n",
    "    \n",
    "    \n",
    "from matplotlib import rcParams\n",
    "rcParams.update({'figure.autolayout': True})"
   ]
  },
  {
   "cell_type": "markdown",
   "metadata": {},
   "source": [
    "### quickly making visuals\n",
    "https://www.analyticsvidhya.com/blog/2016/01/12-pandas-techniques-python-data-manipulation/"
   ]
  },
  {
   "cell_type": "code",
   "execution_count": null,
   "metadata": {
    "collapsed": true
   },
   "outputs": [],
   "source": [
    "import matplotlib.pyplot as plt\n",
    "%matplotlib inline\n",
    "# quick boxplot check\n",
    "data.boxplot(column=\"ApplicantIncome\",by=\"Loan_Status\")"
   ]
  },
  {
   "cell_type": "code",
   "execution_count": null,
   "metadata": {
    "collapsed": true
   },
   "outputs": [],
   "source": [
    "# quick histogram check\n",
    "dfMetTP2_b.hist(column='PCT_READS_MAPPED_TO_GENOME', by='IFC_no')"
   ]
  },
  {
   "cell_type": "code",
   "execution_count": null,
   "metadata": {
    "collapsed": true
   },
   "outputs": [],
   "source": []
  },
  {
   "cell_type": "markdown",
   "metadata": {},
   "source": [
    "# Statistics"
   ]
  },
  {
   "cell_type": "code",
   "execution_count": null,
   "metadata": {
    "collapsed": true
   },
   "outputs": [],
   "source": []
  },
  {
   "cell_type": "code",
   "execution_count": null,
   "metadata": {
    "collapsed": true
   },
   "outputs": [],
   "source": [
    "import scipy.stats as stats\n",
    "\n",
    "statsTest = stats.f_oneway\n",
    "df = dfMetTP2.copy()\n",
    "colMetric = 'PCT_READS_MAPPED_TO_GENOME'\n",
    "grpCol = 'IFC_no'\n",
    "dfForStats = df.pivot(columns=grpCol, values=colMetric)\n",
    " \n",
    "stats.f_oneway(dfForStats.iloc[:,0].dropna(), dfForStats.iloc[:,1].dropna(), dfForStats.iloc[:,2].dropna())"
   ]
  },
  {
   "cell_type": "markdown",
   "metadata": {},
   "source": [
    "### Python Coursera"
   ]
  },
  {
   "cell_type": "code",
   "execution_count": 31,
   "metadata": {},
   "outputs": [
    {
     "data": {
      "image/png": "[encoded data removed]",
      "text/plain": [
       "<matplotlib.figure.Figure at 0x2db70a3d908>"
      ]
     },
     "metadata": {},
     "output_type": "display_data"
    }
   ],
   "source": [
    "import matplotlib.pyplot as plt\n",
    "import numpy as np\n",
    "\n",
    "plt.figure()\n",
    "\n",
    "languages =['Python', 'SQL', 'Java', 'C++', 'JavaScript']\n",
    "pos = np.arange(len(languages))\n",
    "popularity = [56, 39, 34, 34, 29]\n",
    "\n",
    "plt.bar(pos, popularity, align='center')\n",
    "plt.xticks(pos, languages)\n",
    "plt.ylabel('% Popularity')\n",
    "plt.title('Top 5 Languages for Math & Data \\nby % popularity on Stack Overflow', alpha=0.8)\n",
    "\n",
    "#TODO: remove all the ticks (both axes), and tick labels on the Y axis\n",
    "# remove all the ticks (both axes), and tick labels on the Y axis\n",
    "plt.tick_params(top='on', bottom='on', left='off', right='off', labelleft='on', labelbottom='on')\n",
    "\n",
    "# remove the frame of the chart\n",
    "for spine in plt.gca().spines.values():\n",
    "    spine.set_visible(False)\n",
    "plt.show()\n"
   ]
  },
  {
   "cell_type": "code",
   "execution_count": 33,
   "metadata": {},
   "outputs": [
    {
     "name": "stdout",
     "output_type": "stream",
     "text": [
      "Spine\n",
      "Spine\n",
      "Spine\n",
      "Spine\n"
     ]
    },
    {
     "data": {
      "image/png": "[encoded data removed]",
      "text/plain": [
       "<matplotlib.figure.Figure at 0x2db71c29080>"
      ]
     },
     "metadata": {},
     "output_type": "display_data"
    }
   ],
   "source": [
    "for spine in plt.gca().spines.values():\n",
    "    print(spine)"
   ]
  },
  {
   "cell_type": "code",
   "execution_count": 34,
   "metadata": {
    "scrolled": true
   },
   "outputs": [
    {
     "data": {
      "image/png": "[encoded data removed]",
      "text/plain": [
       "<matplotlib.figure.Figure at 0x2db72040dd8>"
      ]
     },
     "metadata": {},
     "output_type": "display_data"
    }
   ],
   "source": [
    "# dejunkified plot\n",
    "\n",
    "import matplotlib.pyplot as plt\n",
    "import numpy as np\n",
    "\n",
    "plt.figure()\n",
    "\n",
    "languages =['Python', 'SQL', 'Java', 'C++', 'JavaScript']\n",
    "pos = np.arange(len(languages))\n",
    "popularity = [56, 39, 34, 34, 29]\n",
    "\n",
    "# change the bar color to be less bright blue\n",
    "bars = plt.bar(pos, popularity, align='center', linewidth=0, color='lightslategrey')\n",
    "# make one bar, the python bar, a contrasting color\n",
    "bars[0].set_color('#1F77B4')\n",
    "\n",
    "# soften all labels by turning grey\n",
    "plt.xticks(pos, languages, alpha=0.8)\n",
    "# remove the Y label since bars are directly labeled\n",
    "#plt.ylabel('% Popularity', alpha=0.8)\n",
    "plt.title('Top 5 Languages for Math & Data \\nby % popularity on Stack Overflow', alpha=0.8)\n",
    "\n",
    "# remove all the ticks (both axes), and tick labels on the Y axis\n",
    "plt.tick_params(top='off', bottom='off', left='off', right='off', labelleft='off', labelbottom='on')\n",
    "\n",
    "# remove the frame of the chart\n",
    "for spine in plt.gca().spines.values():\n",
    "    spine.set_visible(False)\n",
    "    \n",
    "# direct label each bar with Y axis values\n",
    "for bar in bars:\n",
    "    plt.gca().text(bar.get_x() + bar.get_width()/2, bar.get_height() - 5, str(int(bar.get_height())) + '%', \n",
    "                 ha='center', color='w', fontsize=11)\n",
    "plt.show()"
   ]
  },
  {
   "cell_type": "code",
   "execution_count": null,
   "metadata": {
    "collapsed": true
   },
   "outputs": [],
   "source": []
  },
  {
   "cell_type": "code",
   "execution_count": 39,
   "metadata": {
    "collapsed": true,
    "scrolled": false
   },
   "outputs": [],
   "source": [
    "### importing HTML table into pandas\n",
    "import pandas as pd\n",
    "\n",
    "url = 'https://en.wikipedia.org/wiki/List_of_San_Diego_Padres_seasons'\n",
    "# but this can't find the table\n",
    "data = pd.read_html(url, header=0)\n",
    "\n",
    "# remove the footers too\n",
    "df_winPerc = data[1].head(49)"
   ]
  },
  {
   "cell_type": "code",
   "execution_count": 44,
   "metadata": {
    "collapsed": true
   },
   "outputs": [],
   "source": [
    "# get the salary info\n",
    "\n",
    "url = 'http://www.baseballprospectus.com/compensation/?cyear=2017&team=SDN&pos='\n",
    "# but this can't find the table\n",
    "data = pd.read_html(url, header=0)\n",
    "\n",
    "df = data[1].iloc[36:,:]\n",
    "df.columns = df.iloc[0]"
   ]
  },
  {
   "cell_type": "code",
   "execution_count": 65,
   "metadata": {
    "collapsed": true
   },
   "outputs": [],
   "source": [
    "df_Payroll = df.drop(36, axis=0).drop(['PR Sort', 'Diff', 'AvgPR Sort', 'Diff Sort'], axis=1).iloc[:, :3]"
   ]
  },
  {
   "cell_type": "code",
   "execution_count": 66,
   "metadata": {
    "collapsed": true
   },
   "outputs": [
    {
     "data": {
      "text/html": [
       "<div>\n",
       "<style>\n",
       "    .dataframe thead tr:only-child th {\n",
       "        text-align: right;\n",
       "    }\n",
       "\n",
       "    .dataframe thead th {\n",
       "        text-align: left;\n",
       "    }\n",
       "\n",
       "    .dataframe tbody tr th {\n",
       "        vertical-align: top;\n",
       "    }\n",
       "</style>\n",
       "<table border=\"1\" class=\"dataframe\">\n",
       "  <thead>\n",
       "    <tr style=\"text-align: right;\">\n",
       "      <th>36</th>\n",
       "      <th>Year</th>\n",
       "      <th>Padres payroll</th>\n",
       "      <th>Avg payroll</th>\n",
       "    </tr>\n",
       "  </thead>\n",
       "  <tbody>\n",
       "    <tr>\n",
       "      <th>37</th>\n",
       "      <td>1996</td>\n",
       "      <td>$2,000,000</td>\n",
       "      <td>$4,583,416</td>\n",
       "    </tr>\n",
       "    <tr>\n",
       "      <th>38</th>\n",
       "      <td>1997</td>\n",
       "      <td>$2,000,000</td>\n",
       "      <td>$4,892,222</td>\n",
       "    </tr>\n",
       "    <tr>\n",
       "      <th>39</th>\n",
       "      <td>2000</td>\n",
       "      <td>$53,816,000</td>\n",
       "      <td>$57,548,235</td>\n",
       "    </tr>\n",
       "    <tr>\n",
       "      <th>40</th>\n",
       "      <td>2001</td>\n",
       "      <td>$37,438,000</td>\n",
       "      <td>$67,152,893</td>\n",
       "    </tr>\n",
       "    <tr>\n",
       "      <th>41</th>\n",
       "      <td>2002</td>\n",
       "      <td>$40,678,000</td>\n",
       "      <td>$69,249,884</td>\n",
       "    </tr>\n",
       "  </tbody>\n",
       "</table>\n",
       "</div>"
      ],
      "text/plain": [
       "36  Year Padres payroll  Avg payroll\n",
       "37  1996     $2,000,000   $4,583,416\n",
       "38  1997     $2,000,000   $4,892,222\n",
       "39  2000    $53,816,000  $57,548,235\n",
       "40  2001    $37,438,000  $67,152,893\n",
       "41  2002    $40,678,000  $69,249,884"
      ]
     },
     "execution_count": 66,
     "metadata": {},
     "output_type": "execute_result"
    }
   ],
   "source": [
    "df_Payroll.head()"
   ]
  },
  {
   "cell_type": "code",
   "execution_count": 67,
   "metadata": {
    "collapsed": true
   },
   "outputs": [
    {
     "data": {
      "text/html": [
       "<div>\n",
       "<style>\n",
       "    .dataframe thead tr:only-child th {\n",
       "        text-align: right;\n",
       "    }\n",
       "\n",
       "    .dataframe thead th {\n",
       "        text-align: left;\n",
       "    }\n",
       "\n",
       "    .dataframe tbody tr th {\n",
       "        vertical-align: top;\n",
       "    }\n",
       "</style>\n",
       "<table border=\"1\" class=\"dataframe\">\n",
       "  <thead>\n",
       "    <tr style=\"text-align: right;\">\n",
       "      <th></th>\n",
       "      <th>Season</th>\n",
       "      <th>Level</th>\n",
       "      <th>League</th>\n",
       "      <th>Division</th>\n",
       "      <th>Finish</th>\n",
       "      <th>Wins</th>\n",
       "      <th>Losses</th>\n",
       "      <th>Win%</th>\n",
       "      <th>GB</th>\n",
       "      <th>Postseason</th>\n",
       "      <th>Awards</th>\n",
       "    </tr>\n",
       "  </thead>\n",
       "  <tbody>\n",
       "    <tr>\n",
       "      <th>0</th>\n",
       "      <td>1969</td>\n",
       "      <td>MLB</td>\n",
       "      <td>NL</td>\n",
       "      <td>West</td>\n",
       "      <td>6th</td>\n",
       "      <td>52.0</td>\n",
       "      <td>110.0</td>\n",
       "      <td>0.321</td>\n",
       "      <td>41</td>\n",
       "      <td>NaN</td>\n",
       "      <td>NaN</td>\n",
       "    </tr>\n",
       "    <tr>\n",
       "      <th>1</th>\n",
       "      <td>1970</td>\n",
       "      <td>MLB</td>\n",
       "      <td>NL</td>\n",
       "      <td>West</td>\n",
       "      <td>6th</td>\n",
       "      <td>63.0</td>\n",
       "      <td>99.0</td>\n",
       "      <td>0.389</td>\n",
       "      <td>39</td>\n",
       "      <td>NaN</td>\n",
       "      <td>NaN</td>\n",
       "    </tr>\n",
       "    <tr>\n",
       "      <th>2</th>\n",
       "      <td>1971</td>\n",
       "      <td>MLB</td>\n",
       "      <td>NL</td>\n",
       "      <td>West</td>\n",
       "      <td>6th</td>\n",
       "      <td>61.0</td>\n",
       "      <td>100.0</td>\n",
       "      <td>0.379</td>\n",
       "      <td>28½</td>\n",
       "      <td>NaN</td>\n",
       "      <td>NaN</td>\n",
       "    </tr>\n",
       "    <tr>\n",
       "      <th>3</th>\n",
       "      <td>1972</td>\n",
       "      <td>MLB</td>\n",
       "      <td>NL</td>\n",
       "      <td>West</td>\n",
       "      <td>6th</td>\n",
       "      <td>58.0</td>\n",
       "      <td>95.0</td>\n",
       "      <td>0.379</td>\n",
       "      <td>36½</td>\n",
       "      <td>NaN</td>\n",
       "      <td>NaN</td>\n",
       "    </tr>\n",
       "    <tr>\n",
       "      <th>4</th>\n",
       "      <td>1973</td>\n",
       "      <td>MLB</td>\n",
       "      <td>NL</td>\n",
       "      <td>West</td>\n",
       "      <td>6th</td>\n",
       "      <td>60.0</td>\n",
       "      <td>102.0</td>\n",
       "      <td>0.370</td>\n",
       "      <td>39</td>\n",
       "      <td>NaN</td>\n",
       "      <td>NaN</td>\n",
       "    </tr>\n",
       "  </tbody>\n",
       "</table>\n",
       "</div>"
      ],
      "text/plain": [
       "  Season Level League Division Finish  Wins  Losses   Win%   GB Postseason  \\\n",
       "0   1969   MLB     NL     West    6th  52.0   110.0  0.321   41        NaN   \n",
       "1   1970   MLB     NL     West    6th  63.0    99.0  0.389   39        NaN   \n",
       "2   1971   MLB     NL     West    6th  61.0   100.0  0.379  28½        NaN   \n",
       "3   1972   MLB     NL     West    6th  58.0    95.0  0.379  36½        NaN   \n",
       "4   1973   MLB     NL     West    6th  60.0   102.0  0.370   39        NaN   \n",
       "\n",
       "  Awards  \n",
       "0    NaN  \n",
       "1    NaN  \n",
       "2    NaN  \n",
       "3    NaN  \n",
       "4    NaN  "
      ]
     },
     "execution_count": 67,
     "metadata": {},
     "output_type": "execute_result"
    }
   ],
   "source": [
    "df_winPerc.head()"
   ]
  },
  {
   "cell_type": "code",
   "execution_count": 69,
   "metadata": {
    "collapsed": true
   },
   "outputs": [],
   "source": [
    "df_all = pd.merge(df_winPerc, df_Payroll, how='inner', left_on='Season', right_on='Year')"
   ]
  },
  {
   "cell_type": "code",
   "execution_count": 70,
   "metadata": {},
   "outputs": [
    {
     "data": {
      "text/html": [
       "<div>\n",
       "<style>\n",
       "    .dataframe thead tr:only-child th {\n",
       "        text-align: right;\n",
       "    }\n",
       "\n",
       "    .dataframe thead th {\n",
       "        text-align: left;\n",
       "    }\n",
       "\n",
       "    .dataframe tbody tr th {\n",
       "        vertical-align: top;\n",
       "    }\n",
       "</style>\n",
       "<table border=\"1\" class=\"dataframe\">\n",
       "  <thead>\n",
       "    <tr style=\"text-align: right;\">\n",
       "      <th></th>\n",
       "      <th>Season</th>\n",
       "      <th>Level</th>\n",
       "      <th>League</th>\n",
       "      <th>Division</th>\n",
       "      <th>Finish</th>\n",
       "      <th>Wins</th>\n",
       "      <th>Losses</th>\n",
       "      <th>Win%</th>\n",
       "      <th>GB</th>\n",
       "      <th>Postseason</th>\n",
       "      <th>Awards</th>\n",
       "      <th>Year</th>\n",
       "      <th>Padres payroll</th>\n",
       "      <th>Avg payroll</th>\n",
       "    </tr>\n",
       "  </thead>\n",
       "  <tbody>\n",
       "    <tr>\n",
       "      <th>0</th>\n",
       "      <td>1996</td>\n",
       "      <td>MLB</td>\n",
       "      <td>NL</td>\n",
       "      <td>West ^</td>\n",
       "      <td>1st</td>\n",
       "      <td>91.0</td>\n",
       "      <td>71.0</td>\n",
       "      <td>0.562</td>\n",
       "      <td>—</td>\n",
       "      <td>Lost NLDS (Cardinals) 3–0</td>\n",
       "      <td>Ken Caminiti (MVP) Bruce Bochy (MOY)</td>\n",
       "      <td>1996</td>\n",
       "      <td>$2,000,000</td>\n",
       "      <td>$4,583,416</td>\n",
       "    </tr>\n",
       "    <tr>\n",
       "      <th>1</th>\n",
       "      <td>1997</td>\n",
       "      <td>MLB</td>\n",
       "      <td>NL</td>\n",
       "      <td>West</td>\n",
       "      <td>4th</td>\n",
       "      <td>76.0</td>\n",
       "      <td>86.0</td>\n",
       "      <td>0.469</td>\n",
       "      <td>14</td>\n",
       "      <td>NaN</td>\n",
       "      <td>NaN</td>\n",
       "      <td>1997</td>\n",
       "      <td>$2,000,000</td>\n",
       "      <td>$4,892,222</td>\n",
       "    </tr>\n",
       "    <tr>\n",
       "      <th>2</th>\n",
       "      <td>2000</td>\n",
       "      <td>MLB</td>\n",
       "      <td>NL</td>\n",
       "      <td>West</td>\n",
       "      <td>5th</td>\n",
       "      <td>76.0</td>\n",
       "      <td>86.0</td>\n",
       "      <td>0.469</td>\n",
       "      <td>21</td>\n",
       "      <td>NaN</td>\n",
       "      <td>NaN</td>\n",
       "      <td>2000</td>\n",
       "      <td>$53,816,000</td>\n",
       "      <td>$57,548,235</td>\n",
       "    </tr>\n",
       "    <tr>\n",
       "      <th>3</th>\n",
       "      <td>2001</td>\n",
       "      <td>MLB</td>\n",
       "      <td>NL</td>\n",
       "      <td>West</td>\n",
       "      <td>4th</td>\n",
       "      <td>79.0</td>\n",
       "      <td>83.0</td>\n",
       "      <td>0.488</td>\n",
       "      <td>13</td>\n",
       "      <td>NaN</td>\n",
       "      <td>NaN</td>\n",
       "      <td>2001</td>\n",
       "      <td>$37,438,000</td>\n",
       "      <td>$67,152,893</td>\n",
       "    </tr>\n",
       "    <tr>\n",
       "      <th>4</th>\n",
       "      <td>2002</td>\n",
       "      <td>MLB</td>\n",
       "      <td>NL</td>\n",
       "      <td>West</td>\n",
       "      <td>5th</td>\n",
       "      <td>66.0</td>\n",
       "      <td>96.0</td>\n",
       "      <td>0.407</td>\n",
       "      <td>32</td>\n",
       "      <td>NaN</td>\n",
       "      <td>NaN</td>\n",
       "      <td>2002</td>\n",
       "      <td>$40,678,000</td>\n",
       "      <td>$69,249,884</td>\n",
       "    </tr>\n",
       "  </tbody>\n",
       "</table>\n",
       "</div>"
      ],
      "text/plain": [
       "  Season Level League Division Finish  Wins  Losses   Win%  GB  \\\n",
       "0   1996   MLB     NL   West ^    1st  91.0    71.0  0.562   —   \n",
       "1   1997   MLB     NL     West    4th  76.0    86.0  0.469  14   \n",
       "2   2000   MLB     NL     West    5th  76.0    86.0  0.469  21   \n",
       "3   2001   MLB     NL     West    4th  79.0    83.0  0.488  13   \n",
       "4   2002   MLB     NL     West    5th  66.0    96.0  0.407  32   \n",
       "\n",
       "                  Postseason                                Awards  Year  \\\n",
       "0  Lost NLDS (Cardinals) 3–0  Ken Caminiti (MVP) Bruce Bochy (MOY)  1996   \n",
       "1                        NaN                                   NaN  1997   \n",
       "2                        NaN                                   NaN  2000   \n",
       "3                        NaN                                   NaN  2001   \n",
       "4                        NaN                                   NaN  2002   \n",
       "\n",
       "  Padres payroll  Avg payroll  \n",
       "0     $2,000,000   $4,583,416  \n",
       "1     $2,000,000   $4,892,222  \n",
       "2    $53,816,000  $57,548,235  \n",
       "3    $37,438,000  $67,152,893  \n",
       "4    $40,678,000  $69,249,884  "
      ]
     },
     "execution_count": 70,
     "metadata": {},
     "output_type": "execute_result"
    }
   ],
   "source": [
    "df_all.head()"
   ]
  },
  {
   "cell_type": "code",
   "execution_count": 77,
   "metadata": {
    "collapsed": true
   },
   "outputs": [],
   "source": [
    "\n",
    "# convert currencies to float\n",
    "df_all['Padres payroll'] = df_all['Padres payroll'].str.replace('$', '').str.replace(',','').astype(float)\n",
    "df_all['Avg payroll'] = df_all['Avg payroll'].str.replace('$', '').str.replace(',','').astype(float)\n"
   ]
  },
  {
   "cell_type": "code",
   "execution_count": 78,
   "metadata": {
    "collapsed": true
   },
   "outputs": [],
   "source": [
    "df_all['Padres Payroll % of MLB average'] = df_all['Padres payroll']/df_all['Avg payroll']"
   ]
  },
  {
   "cell_type": "code",
   "execution_count": 86,
   "metadata": {
    "collapsed": true
   },
   "outputs": [],
   "source": [
    "# start at 2000s to since no data is available for 1998, 1999\n",
    "df_all = df_all.iloc[2:,:]"
   ]
  },
  {
   "cell_type": "code",
   "execution_count": 89,
   "metadata": {},
   "outputs": [
    {
     "name": "stderr",
     "output_type": "stream",
     "text": [
      "C:\\Users\\Benjamin.Lacar\\AppData\\Local\\Continuum\\Anaconda3_v440\\lib\\site-packages\\ipykernel_launcher.py:1: SettingWithCopyWarning: \n",
      "A value is trying to be set on a copy of a slice from a DataFrame.\n",
      "Try using .loc[row_indexer,col_indexer] = value instead\n",
      "\n",
      "See the caveats in the documentation: http://pandas.pydata.org/pandas-docs/stable/indexing.html#indexing-view-versus-copy\n",
      "  \"\"\"Entry point for launching an IPython kernel.\n"
     ]
    }
   ],
   "source": [
    "df_all['Season'] = pd.to_datetime(df_all['Season'])"
   ]
  },
  {
   "cell_type": "code",
   "execution_count": 95,
   "metadata": {
    "collapsed": true
   },
   "outputs": [],
   "source": [
    "df_all.set_index('Season', inplace=True)"
   ]
  },
  {
   "cell_type": "code",
   "execution_count": 97,
   "metadata": {},
   "outputs": [
    {
     "data": {
      "text/plain": [
       "DatetimeIndex(['2000-01-01', '2001-01-01', '2002-01-01', '2003-01-01',\n",
       "               '2004-01-01', '2005-01-01', '2006-01-01', '2007-01-01',\n",
       "               '2008-01-01', '2009-01-01', '2010-01-01', '2011-01-01',\n",
       "               '2012-01-01', '2013-01-01', '2014-01-01', '2015-01-01',\n",
       "               '2016-01-01'],\n",
       "              dtype='datetime64[ns]', name='Season', freq=None)"
      ]
     },
     "execution_count": 97,
     "metadata": {},
     "output_type": "execute_result"
    }
   ],
   "source": [
    "df_all.index"
   ]
  },
  {
   "cell_type": "code",
   "execution_count": 207,
   "metadata": {},
   "outputs": [
    {
     "data": {
      "text/html": [
       "<div>\n",
       "<style>\n",
       "    .dataframe thead tr:only-child th {\n",
       "        text-align: right;\n",
       "    }\n",
       "\n",
       "    .dataframe thead th {\n",
       "        text-align: left;\n",
       "    }\n",
       "\n",
       "    .dataframe tbody tr th {\n",
       "        vertical-align: top;\n",
       "    }\n",
       "</style>\n",
       "<table border=\"1\" class=\"dataframe\">\n",
       "  <thead>\n",
       "    <tr style=\"text-align: right;\">\n",
       "      <th></th>\n",
       "      <th>Level</th>\n",
       "      <th>League</th>\n",
       "      <th>Division</th>\n",
       "      <th>Finish</th>\n",
       "      <th>Wins</th>\n",
       "      <th>Losses</th>\n",
       "      <th>Win%</th>\n",
       "      <th>GB</th>\n",
       "      <th>Postseason</th>\n",
       "      <th>Awards</th>\n",
       "      <th>Year</th>\n",
       "      <th>Padres payroll</th>\n",
       "      <th>Avg payroll</th>\n",
       "      <th>Padres Payroll % of MLB average</th>\n",
       "    </tr>\n",
       "    <tr>\n",
       "      <th>Season</th>\n",
       "      <th></th>\n",
       "      <th></th>\n",
       "      <th></th>\n",
       "      <th></th>\n",
       "      <th></th>\n",
       "      <th></th>\n",
       "      <th></th>\n",
       "      <th></th>\n",
       "      <th></th>\n",
       "      <th></th>\n",
       "      <th></th>\n",
       "      <th></th>\n",
       "      <th></th>\n",
       "      <th></th>\n",
       "    </tr>\n",
       "  </thead>\n",
       "  <tbody>\n",
       "    <tr>\n",
       "      <th>2000-01-01</th>\n",
       "      <td>MLB</td>\n",
       "      <td>NL</td>\n",
       "      <td>West</td>\n",
       "      <td>5th</td>\n",
       "      <td>76.0</td>\n",
       "      <td>86.0</td>\n",
       "      <td>0.469</td>\n",
       "      <td>21</td>\n",
       "      <td>NaN</td>\n",
       "      <td>NaN</td>\n",
       "      <td>2000</td>\n",
       "      <td>53816000.0</td>\n",
       "      <td>57548235.0</td>\n",
       "      <td>0.935146</td>\n",
       "    </tr>\n",
       "    <tr>\n",
       "      <th>2001-01-01</th>\n",
       "      <td>MLB</td>\n",
       "      <td>NL</td>\n",
       "      <td>West</td>\n",
       "      <td>4th</td>\n",
       "      <td>79.0</td>\n",
       "      <td>83.0</td>\n",
       "      <td>0.488</td>\n",
       "      <td>13</td>\n",
       "      <td>NaN</td>\n",
       "      <td>NaN</td>\n",
       "      <td>2001</td>\n",
       "      <td>37438000.0</td>\n",
       "      <td>67152893.0</td>\n",
       "      <td>0.557504</td>\n",
       "    </tr>\n",
       "    <tr>\n",
       "      <th>2002-01-01</th>\n",
       "      <td>MLB</td>\n",
       "      <td>NL</td>\n",
       "      <td>West</td>\n",
       "      <td>5th</td>\n",
       "      <td>66.0</td>\n",
       "      <td>96.0</td>\n",
       "      <td>0.407</td>\n",
       "      <td>32</td>\n",
       "      <td>NaN</td>\n",
       "      <td>NaN</td>\n",
       "      <td>2002</td>\n",
       "      <td>40678000.0</td>\n",
       "      <td>69249884.0</td>\n",
       "      <td>0.587409</td>\n",
       "    </tr>\n",
       "    <tr>\n",
       "      <th>2003-01-01</th>\n",
       "      <td>MLB</td>\n",
       "      <td>NL</td>\n",
       "      <td>West</td>\n",
       "      <td>5th</td>\n",
       "      <td>64.0</td>\n",
       "      <td>98.0</td>\n",
       "      <td>0.395</td>\n",
       "      <td>36½</td>\n",
       "      <td>NaN</td>\n",
       "      <td>NaN</td>\n",
       "      <td>2003</td>\n",
       "      <td>43565000.0</td>\n",
       "      <td>72210211.0</td>\n",
       "      <td>0.603308</td>\n",
       "    </tr>\n",
       "    <tr>\n",
       "      <th>2004-01-01</th>\n",
       "      <td>MLB</td>\n",
       "      <td>NL</td>\n",
       "      <td>West</td>\n",
       "      <td>3rd</td>\n",
       "      <td>87.0</td>\n",
       "      <td>75.0</td>\n",
       "      <td>0.537</td>\n",
       "      <td>6</td>\n",
       "      <td>NaN</td>\n",
       "      <td>NaN</td>\n",
       "      <td>2004</td>\n",
       "      <td>59172333.0</td>\n",
       "      <td>71437964.0</td>\n",
       "      <td>0.828304</td>\n",
       "    </tr>\n",
       "    <tr>\n",
       "      <th>2005-01-01</th>\n",
       "      <td>MLB</td>\n",
       "      <td>NL</td>\n",
       "      <td>West ^</td>\n",
       "      <td>1st</td>\n",
       "      <td>82.0</td>\n",
       "      <td>80.0</td>\n",
       "      <td>0.506</td>\n",
       "      <td>—</td>\n",
       "      <td>Lost NLDS (Cardinals) 3–0</td>\n",
       "      <td>NaN</td>\n",
       "      <td>2005</td>\n",
       "      <td>62186333.0</td>\n",
       "      <td>73700583.0</td>\n",
       "      <td>0.843770</td>\n",
       "    </tr>\n",
       "    <tr>\n",
       "      <th>2006-01-01</th>\n",
       "      <td>MLB</td>\n",
       "      <td>NL</td>\n",
       "      <td>West ^</td>\n",
       "      <td>1st</td>\n",
       "      <td>88.0</td>\n",
       "      <td>74.0</td>\n",
       "      <td>0.543</td>\n",
       "      <td>—</td>\n",
       "      <td>Lost NLDS (Cardinals) 3–1</td>\n",
       "      <td>NaN</td>\n",
       "      <td>2006</td>\n",
       "      <td>69170167.0</td>\n",
       "      <td>81320418.0</td>\n",
       "      <td>0.850588</td>\n",
       "    </tr>\n",
       "    <tr>\n",
       "      <th>2007-01-01</th>\n",
       "      <td>MLB</td>\n",
       "      <td>NL</td>\n",
       "      <td>West</td>\n",
       "      <td>3rd</td>\n",
       "      <td>89.0</td>\n",
       "      <td>74.0</td>\n",
       "      <td>0.546</td>\n",
       "      <td>1½</td>\n",
       "      <td>NaN</td>\n",
       "      <td>Jake Peavy (CYA)</td>\n",
       "      <td>2007</td>\n",
       "      <td>58571067.0</td>\n",
       "      <td>85813074.0</td>\n",
       "      <td>0.682542</td>\n",
       "    </tr>\n",
       "    <tr>\n",
       "      <th>2008-01-01</th>\n",
       "      <td>MLB</td>\n",
       "      <td>NL</td>\n",
       "      <td>West</td>\n",
       "      <td>5th</td>\n",
       "      <td>63.0</td>\n",
       "      <td>99.0</td>\n",
       "      <td>0.389</td>\n",
       "      <td>21</td>\n",
       "      <td>NaN</td>\n",
       "      <td>NaN</td>\n",
       "      <td>2008</td>\n",
       "      <td>74010117.0</td>\n",
       "      <td>93345041.0</td>\n",
       "      <td>0.792866</td>\n",
       "    </tr>\n",
       "    <tr>\n",
       "      <th>2009-01-01</th>\n",
       "      <td>MLB</td>\n",
       "      <td>NL</td>\n",
       "      <td>West</td>\n",
       "      <td>4th</td>\n",
       "      <td>75.0</td>\n",
       "      <td>87.0</td>\n",
       "      <td>0.463</td>\n",
       "      <td>20</td>\n",
       "      <td>NaN</td>\n",
       "      <td>NaN</td>\n",
       "      <td>2009</td>\n",
       "      <td>44173200.0</td>\n",
       "      <td>93808721.0</td>\n",
       "      <td>0.470886</td>\n",
       "    </tr>\n",
       "    <tr>\n",
       "      <th>2010-01-01</th>\n",
       "      <td>MLB</td>\n",
       "      <td>NL</td>\n",
       "      <td>West</td>\n",
       "      <td>2nd</td>\n",
       "      <td>90.0</td>\n",
       "      <td>72.0</td>\n",
       "      <td>0.555</td>\n",
       "      <td>2</td>\n",
       "      <td>NaN</td>\n",
       "      <td>Heath Bell (ROY) Bud Black (MOY)</td>\n",
       "      <td>2010</td>\n",
       "      <td>37799300.0</td>\n",
       "      <td>95698261.0</td>\n",
       "      <td>0.394984</td>\n",
       "    </tr>\n",
       "    <tr>\n",
       "      <th>2011-01-01</th>\n",
       "      <td>MLB</td>\n",
       "      <td>NL</td>\n",
       "      <td>West</td>\n",
       "      <td>5th</td>\n",
       "      <td>71.0</td>\n",
       "      <td>91.0</td>\n",
       "      <td>0.435</td>\n",
       "      <td>23</td>\n",
       "      <td>NaN</td>\n",
       "      <td>NaN</td>\n",
       "      <td>2011</td>\n",
       "      <td>45869140.0</td>\n",
       "      <td>97450552.0</td>\n",
       "      <td>0.470691</td>\n",
       "    </tr>\n",
       "    <tr>\n",
       "      <th>2012-01-01</th>\n",
       "      <td>MLB</td>\n",
       "      <td>NL</td>\n",
       "      <td>West</td>\n",
       "      <td>4th</td>\n",
       "      <td>76.0</td>\n",
       "      <td>86.0</td>\n",
       "      <td>0.469</td>\n",
       "      <td>18</td>\n",
       "      <td>NaN</td>\n",
       "      <td>NaN</td>\n",
       "      <td>2012</td>\n",
       "      <td>55621900.0</td>\n",
       "      <td>100756166.0</td>\n",
       "      <td>0.552045</td>\n",
       "    </tr>\n",
       "    <tr>\n",
       "      <th>2013-01-01</th>\n",
       "      <td>MLB</td>\n",
       "      <td>NL</td>\n",
       "      <td>West</td>\n",
       "      <td>T-3rd</td>\n",
       "      <td>76.0</td>\n",
       "      <td>86.0</td>\n",
       "      <td>0.469</td>\n",
       "      <td>16</td>\n",
       "      <td>NaN</td>\n",
       "      <td>NaN</td>\n",
       "      <td>2013</td>\n",
       "      <td>68333600.0</td>\n",
       "      <td>106658387.0</td>\n",
       "      <td>0.640677</td>\n",
       "    </tr>\n",
       "    <tr>\n",
       "      <th>2014-01-01</th>\n",
       "      <td>MLB</td>\n",
       "      <td>NL</td>\n",
       "      <td>West</td>\n",
       "      <td>3rd</td>\n",
       "      <td>77.0</td>\n",
       "      <td>85.0</td>\n",
       "      <td>0.475</td>\n",
       "      <td>17</td>\n",
       "      <td>NaN</td>\n",
       "      <td>NaN</td>\n",
       "      <td>2014</td>\n",
       "      <td>90636600.0</td>\n",
       "      <td>115428670.0</td>\n",
       "      <td>0.785217</td>\n",
       "    </tr>\n",
       "    <tr>\n",
       "      <th>2015-01-01</th>\n",
       "      <td>MLB</td>\n",
       "      <td>NL</td>\n",
       "      <td>West</td>\n",
       "      <td>4th</td>\n",
       "      <td>74.0</td>\n",
       "      <td>88.0</td>\n",
       "      <td>0.457</td>\n",
       "      <td>18</td>\n",
       "      <td>NaN</td>\n",
       "      <td>NaN</td>\n",
       "      <td>2015</td>\n",
       "      <td>108387033.0</td>\n",
       "      <td>125458486.0</td>\n",
       "      <td>0.863927</td>\n",
       "    </tr>\n",
       "    <tr>\n",
       "      <th>2016-01-01</th>\n",
       "      <td>MLB</td>\n",
       "      <td>NL</td>\n",
       "      <td>West</td>\n",
       "      <td>5th</td>\n",
       "      <td>68.0</td>\n",
       "      <td>94.0</td>\n",
       "      <td>0.420</td>\n",
       "      <td>23</td>\n",
       "      <td>NaN</td>\n",
       "      <td>NaN</td>\n",
       "      <td>2016</td>\n",
       "      <td>100509500.0</td>\n",
       "      <td>130290910.0</td>\n",
       "      <td>0.771424</td>\n",
       "    </tr>\n",
       "  </tbody>\n",
       "</table>\n",
       "</div>"
      ],
      "text/plain": [
       "           Level League Division Finish  Wins  Losses   Win%   GB  \\\n",
       "Season                                                              \n",
       "2000-01-01   MLB     NL     West    5th  76.0    86.0  0.469   21   \n",
       "2001-01-01   MLB     NL     West    4th  79.0    83.0  0.488   13   \n",
       "2002-01-01   MLB     NL     West    5th  66.0    96.0  0.407   32   \n",
       "2003-01-01   MLB     NL     West    5th  64.0    98.0  0.395  36½   \n",
       "2004-01-01   MLB     NL     West    3rd  87.0    75.0  0.537    6   \n",
       "2005-01-01   MLB     NL   West ^    1st  82.0    80.0  0.506    —   \n",
       "2006-01-01   MLB     NL   West ^    1st  88.0    74.0  0.543    —   \n",
       "2007-01-01   MLB     NL     West    3rd  89.0    74.0  0.546   1½   \n",
       "2008-01-01   MLB     NL     West    5th  63.0    99.0  0.389   21   \n",
       "2009-01-01   MLB     NL     West    4th  75.0    87.0  0.463   20   \n",
       "2010-01-01   MLB     NL     West    2nd  90.0    72.0  0.555    2   \n",
       "2011-01-01   MLB     NL     West    5th  71.0    91.0  0.435   23   \n",
       "2012-01-01   MLB     NL     West    4th  76.0    86.0  0.469   18   \n",
       "2013-01-01   MLB     NL     West  T-3rd  76.0    86.0  0.469   16   \n",
       "2014-01-01   MLB     NL     West    3rd  77.0    85.0  0.475   17   \n",
       "2015-01-01   MLB     NL     West    4th  74.0    88.0  0.457   18   \n",
       "2016-01-01   MLB     NL     West    5th  68.0    94.0  0.420   23   \n",
       "\n",
       "                           Postseason                            Awards  Year  \\\n",
       "Season                                                                          \n",
       "2000-01-01                        NaN                               NaN  2000   \n",
       "2001-01-01                        NaN                               NaN  2001   \n",
       "2002-01-01                        NaN                               NaN  2002   \n",
       "2003-01-01                        NaN                               NaN  2003   \n",
       "2004-01-01                        NaN                               NaN  2004   \n",
       "2005-01-01  Lost NLDS (Cardinals) 3–0                               NaN  2005   \n",
       "2006-01-01  Lost NLDS (Cardinals) 3–1                               NaN  2006   \n",
       "2007-01-01                        NaN                  Jake Peavy (CYA)  2007   \n",
       "2008-01-01                        NaN                               NaN  2008   \n",
       "2009-01-01                        NaN                               NaN  2009   \n",
       "2010-01-01                        NaN  Heath Bell (ROY) Bud Black (MOY)  2010   \n",
       "2011-01-01                        NaN                               NaN  2011   \n",
       "2012-01-01                        NaN                               NaN  2012   \n",
       "2013-01-01                        NaN                               NaN  2013   \n",
       "2014-01-01                        NaN                               NaN  2014   \n",
       "2015-01-01                        NaN                               NaN  2015   \n",
       "2016-01-01                        NaN                               NaN  2016   \n",
       "\n",
       "            Padres payroll  Avg payroll  Padres Payroll % of MLB average  \n",
       "Season                                                                    \n",
       "2000-01-01      53816000.0   57548235.0                         0.935146  \n",
       "2001-01-01      37438000.0   67152893.0                         0.557504  \n",
       "2002-01-01      40678000.0   69249884.0                         0.587409  \n",
       "2003-01-01      43565000.0   72210211.0                         0.603308  \n",
       "2004-01-01      59172333.0   71437964.0                         0.828304  \n",
       "2005-01-01      62186333.0   73700583.0                         0.843770  \n",
       "2006-01-01      69170167.0   81320418.0                         0.850588  \n",
       "2007-01-01      58571067.0   85813074.0                         0.682542  \n",
       "2008-01-01      74010117.0   93345041.0                         0.792866  \n",
       "2009-01-01      44173200.0   93808721.0                         0.470886  \n",
       "2010-01-01      37799300.0   95698261.0                         0.394984  \n",
       "2011-01-01      45869140.0   97450552.0                         0.470691  \n",
       "2012-01-01      55621900.0  100756166.0                         0.552045  \n",
       "2013-01-01      68333600.0  106658387.0                         0.640677  \n",
       "2014-01-01      90636600.0  115428670.0                         0.785217  \n",
       "2015-01-01     108387033.0  125458486.0                         0.863927  \n",
       "2016-01-01     100509500.0  130290910.0                         0.771424  "
      ]
     },
     "execution_count": 207,
     "metadata": {},
     "output_type": "execute_result"
    }
   ],
   "source": [
    "df_all"
   ]
  },
  {
   "cell_type": "code",
   "execution_count": null,
   "metadata": {
    "collapsed": true
   },
   "outputs": [],
   "source": []
  },
  {
   "cell_type": "code",
   "execution_count": 208,
   "metadata": {},
   "outputs": [
    {
     "name": "stdout",
     "output_type": "stream",
     "text": [
      "C:\\Users\\Benjamin.Lacar\\Documents\\Box\\Box Sync\\BL (Benjamin.Lacar@fluidigm.com)\\Python\\Coursera_dataScience\\course2_downloads\\week4\n"
     ]
    }
   ],
   "source": [
    "import os\n",
    "path = 'C:\\\\Users\\\\Benjamin.Lacar\\\\Documents\\\\Box\\\\Box Sync\\\\BL (Benjamin.Lacar@fluidigm.com)\\\\Python\\\\Coursera_dataScience\\\\course2_downloads\\\\week4'\n",
    "os.chdir(path) \n",
    "cwd = os.getcwd()\n",
    "print(cwd)"
   ]
  },
  {
   "cell_type": "code",
   "execution_count": 209,
   "metadata": {},
   "outputs": [
    {
     "data": {
      "image/png": "[encoded data removed]",
      "text/plain": [
       "<matplotlib.figure.Figure at 0x29879a5fa58>"
      ]
     },
     "metadata": {},
     "output_type": "display_data"
    }
   ],
   "source": [
    "import matplotlib.pyplot as plt\n",
    "import seaborn as sns\n",
    "import numpy as np\n",
    "\n",
    "sns.set_style('white')\n",
    "# use the 'seaborn-colorblind' style\n",
    "plt.style.use('seaborn-colorblind')\n",
    "\n",
    "fig, ax = plt.subplots()\n",
    "\n",
    "ax.plot(df_all['Padres Payroll % of MLB average'], color='blue')\n",
    "ax2 =ax.twinx()\n",
    "ax2.plot(df_all['Win%'], color='orange')\n",
    "\n",
    "# add correlation coefficient\n",
    "cc = df_all[['Win%', 'Padres Payroll % of MLB average']].corr(method='pearson', min_periods=1).iloc[0,1];\n",
    "\n",
    "ax.text(ax.get_xticks()[-1], ax.get_yticks()[-2], 'correlation='+str(\"%.1f\" % (100*cc))+'%', ha='right');\n",
    "\n",
    "\n",
    "# change left y-axis to percentage and make blue\n",
    "vals = ax.get_yticks();\n",
    "ax.set_yticklabels(['{:3.0f}%'.format(x*100) for x in vals], color='blue', size=13);\n",
    "ax.set_ylabel('% Padres Payroll of league average', size=14)\n",
    "ax.yaxis.label.set_color('blue')\n",
    "\n",
    "# change right y-axis to percentage and make orange\n",
    "vals = ax2.get_yticks();\n",
    "ax2.set_yticklabels(['{:3.0f}%'.format(x*100) for x in vals], color='orange', size=12);\n",
    "ax2.set_ylabel('Winning percentage', size=14)\n",
    "ax2.yaxis.label.set_color('orange')\n",
    "\n",
    "# edit title and xlabel\n",
    "ax.set_xlabel('Season', size=14)\n",
    "ax.set_title('Comparison of Padres Payroll and Winning Percentage in the 2000s', size=14)\n",
    "\n",
    "# change years to show all and rotate\n",
    "ax.set_xticks(df_all.index);\n",
    "ax.set_xticklabels(df_all.index.year, size=12, rotation=90);\n",
    "\n",
    "\n",
    "plt.savefig('pctPadresPayroll_pctWinning.png', dpi=400)"
   ]
  },
  {
   "cell_type": "code",
   "execution_count": 171,
   "metadata": {},
   "outputs": [
    {
     "data": {
      "text/plain": [
       "0.048123323911428026"
      ]
     },
     "execution_count": 171,
     "metadata": {},
     "output_type": "execute_result"
    }
   ],
   "source": [
    "df_all[['Win%', 'Padres Payroll % of MLB average']].corr(method='pearson', min_periods=1).iloc[0,1]"
   ]
  },
  {
   "cell_type": "code",
   "execution_count": 212,
   "metadata": {},
   "outputs": [
    {
     "data": {
      "text/plain": [
       "0.048123323911428012"
      ]
     },
     "execution_count": 212,
     "metadata": {},
     "output_type": "execute_result"
    }
   ],
   "source": [
    "df_all.loc['Win%'].corr(df_all['Padres Payroll % of MLB average'])"
   ]
  },
  {
   "cell_type": "code",
   "execution_count": 219,
   "metadata": {},
   "outputs": [
    {
     "data": {
      "text/plain": [
       "DatetimeIndex(['2000-01-01', '2001-01-01', '2002-01-01', '2003-01-01',\n",
       "               '2004-01-01', '2005-01-01', '2006-01-01', '2007-01-01',\n",
       "               '2008-01-01', '2009-01-01', '2010-01-01', '2011-01-01',\n",
       "               '2012-01-01', '2013-01-01', '2014-01-01', '2015-01-01',\n",
       "               '2016-01-01'],\n",
       "              dtype='datetime64[ns]', name='Season', freq=None)"
      ]
     },
     "execution_count": 219,
     "metadata": {},
     "output_type": "execute_result"
    }
   ],
   "source": [
    "df_all.index"
   ]
  },
  {
   "cell_type": "code",
   "execution_count": 221,
   "metadata": {
    "scrolled": true
   },
   "outputs": [
    {
     "data": {
      "text/plain": [
       "0.50195481219779436"
      ]
     },
     "execution_count": 221,
     "metadata": {},
     "output_type": "execute_result"
    }
   ],
   "source": [
    "df_all.loc[:'2007-01-01','Win%'].corr(df_all.loc[:'2007-01-01','Padres Payroll % of MLB average'])"
   ]
  },
  {
   "cell_type": "code",
   "execution_count": null,
   "metadata": {
    "collapsed": true
   },
   "outputs": [],
   "source": [
    "# trying with jsp\n",
    "\n",
    "import pandas as pd\n",
    "url = 'http://sandiego.padres.mlb.com/sd/history/year_by_year_results.jsp'\n",
    "# but this can't find the table\n",
    "pd.read_html(url)\n",
    "\n",
    "# try beautiful soup and requests\n",
    "from bs4 import BeautifulSoup\n",
    "import re\n",
    "import urllib.request\n",
    "import requests\n",
    "\n",
    "page = urllib.request.urlopen(url).read()\n",
    "soup = BeautifulSoup(page)"
   ]
  },
  {
   "cell_type": "code",
   "execution_count": 8,
   "metadata": {},
   "outputs": [
    {
     "ename": "ValueError",
     "evalue": "No tables found",
     "output_type": "error",
     "traceback": [
      "\u001b[1;31m---------------------------------------------------------------------------\u001b[0m",
      "\u001b[1;31mValueError\u001b[0m                                Traceback (most recent call last)",
      "\u001b[1;32m<ipython-input-8-57b6eb4f0899>\u001b[0m in \u001b[0;36m<module>\u001b[1;34m()\u001b[0m\n\u001b[1;32m----> 1\u001b[1;33m \u001b[0mpd\u001b[0m\u001b[1;33m.\u001b[0m\u001b[0mread_html\u001b[0m\u001b[1;33m(\u001b[0m\u001b[0mrequests\u001b[0m\u001b[1;33m.\u001b[0m\u001b[0mget\u001b[0m\u001b[1;33m(\u001b[0m\u001b[0murl\u001b[0m\u001b[1;33m)\u001b[0m\u001b[1;33m.\u001b[0m\u001b[0mtext\u001b[0m\u001b[1;33m)\u001b[0m\u001b[1;33m\u001b[0m\u001b[0m\n\u001b[0m",
      "\u001b[1;32mC:\\Users\\Benjamin.Lacar\\AppData\\Local\\Continuum\\Anaconda3_v440\\lib\\site-packages\\pandas\\io\\html.py\u001b[0m in \u001b[0;36mread_html\u001b[1;34m(io, match, flavor, header, index_col, skiprows, attrs, parse_dates, tupleize_cols, thousands, encoding, decimal, converters, na_values, keep_default_na)\u001b[0m\n\u001b[0;32m    904\u001b[0m                   \u001b[0mthousands\u001b[0m\u001b[1;33m=\u001b[0m\u001b[0mthousands\u001b[0m\u001b[1;33m,\u001b[0m \u001b[0mattrs\u001b[0m\u001b[1;33m=\u001b[0m\u001b[0mattrs\u001b[0m\u001b[1;33m,\u001b[0m \u001b[0mencoding\u001b[0m\u001b[1;33m=\u001b[0m\u001b[0mencoding\u001b[0m\u001b[1;33m,\u001b[0m\u001b[1;33m\u001b[0m\u001b[0m\n\u001b[0;32m    905\u001b[0m                   \u001b[0mdecimal\u001b[0m\u001b[1;33m=\u001b[0m\u001b[0mdecimal\u001b[0m\u001b[1;33m,\u001b[0m \u001b[0mconverters\u001b[0m\u001b[1;33m=\u001b[0m\u001b[0mconverters\u001b[0m\u001b[1;33m,\u001b[0m \u001b[0mna_values\u001b[0m\u001b[1;33m=\u001b[0m\u001b[0mna_values\u001b[0m\u001b[1;33m,\u001b[0m\u001b[1;33m\u001b[0m\u001b[0m\n\u001b[1;32m--> 906\u001b[1;33m                   keep_default_na=keep_default_na)\n\u001b[0m",
      "\u001b[1;32mC:\\Users\\Benjamin.Lacar\\AppData\\Local\\Continuum\\Anaconda3_v440\\lib\\site-packages\\pandas\\io\\html.py\u001b[0m in \u001b[0;36m_parse\u001b[1;34m(flavor, io, match, attrs, encoding, **kwargs)\u001b[0m\n\u001b[0;32m    741\u001b[0m             \u001b[1;32mbreak\u001b[0m\u001b[1;33m\u001b[0m\u001b[0m\n\u001b[0;32m    742\u001b[0m     \u001b[1;32melse\u001b[0m\u001b[1;33m:\u001b[0m\u001b[1;33m\u001b[0m\u001b[0m\n\u001b[1;32m--> 743\u001b[1;33m         \u001b[0mraise_with_traceback\u001b[0m\u001b[1;33m(\u001b[0m\u001b[0mretained\u001b[0m\u001b[1;33m)\u001b[0m\u001b[1;33m\u001b[0m\u001b[0m\n\u001b[0m\u001b[0;32m    744\u001b[0m \u001b[1;33m\u001b[0m\u001b[0m\n\u001b[0;32m    745\u001b[0m     \u001b[0mret\u001b[0m \u001b[1;33m=\u001b[0m \u001b[1;33m[\u001b[0m\u001b[1;33m]\u001b[0m\u001b[1;33m\u001b[0m\u001b[0m\n",
      "\u001b[1;32mC:\\Users\\Benjamin.Lacar\\AppData\\Local\\Continuum\\Anaconda3_v440\\lib\\site-packages\\pandas\\compat\\__init__.py\u001b[0m in \u001b[0;36mraise_with_traceback\u001b[1;34m(exc, traceback)\u001b[0m\n\u001b[0;32m    342\u001b[0m         \u001b[1;32mif\u001b[0m \u001b[0mtraceback\u001b[0m \u001b[1;33m==\u001b[0m \u001b[0mEllipsis\u001b[0m\u001b[1;33m:\u001b[0m\u001b[1;33m\u001b[0m\u001b[0m\n\u001b[0;32m    343\u001b[0m             \u001b[0m_\u001b[0m\u001b[1;33m,\u001b[0m \u001b[0m_\u001b[0m\u001b[1;33m,\u001b[0m \u001b[0mtraceback\u001b[0m \u001b[1;33m=\u001b[0m \u001b[0msys\u001b[0m\u001b[1;33m.\u001b[0m\u001b[0mexc_info\u001b[0m\u001b[1;33m(\u001b[0m\u001b[1;33m)\u001b[0m\u001b[1;33m\u001b[0m\u001b[0m\n\u001b[1;32m--> 344\u001b[1;33m         \u001b[1;32mraise\u001b[0m \u001b[0mexc\u001b[0m\u001b[1;33m.\u001b[0m\u001b[0mwith_traceback\u001b[0m\u001b[1;33m(\u001b[0m\u001b[0mtraceback\u001b[0m\u001b[1;33m)\u001b[0m\u001b[1;33m\u001b[0m\u001b[0m\n\u001b[0m\u001b[0;32m    345\u001b[0m \u001b[1;32melse\u001b[0m\u001b[1;33m:\u001b[0m\u001b[1;33m\u001b[0m\u001b[0m\n\u001b[0;32m    346\u001b[0m     \u001b[1;31m# this version of raise is a syntax error in Python 3\u001b[0m\u001b[1;33m\u001b[0m\u001b[1;33m\u001b[0m\u001b[0m\n",
      "\u001b[1;31mValueError\u001b[0m: No tables found"
     ]
    }
   ],
   "source": [
    "pd.read_html(requests.get(url).text)"
   ]
  }
 ],
 "metadata": {
  "anaconda-cloud": {},
  "kernelspec": {
   "display_name": "Python 3",
   "language": "python",
   "name": "python3"
  },
  "language_info": {
   "codemirror_mode": {
    "name": "ipython",
    "version": 3
   },
   "file_extension": ".py",
   "mimetype": "text/x-python",
   "name": "python",
   "nbconvert_exporter": "python",
   "pygments_lexer": "ipython3",
   "version": "3.5.4"
  }
 },
 "nbformat": 4,
 "nbformat_minor": 1
}
